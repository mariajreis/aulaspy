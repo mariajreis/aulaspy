{
 "cells": [
  {
   "cell_type": "code",
   "execution_count": 7,
   "metadata": {},
   "outputs": [
    {
     "name": "stdout",
     "output_type": "stream",
     "text": [
      "vamos calcular o seu IMC\n",
      "seu é peso 95.0\n",
      "sua altura é 1.58\n",
      "seu imc é 38.05479891043102\n",
      "Situação do IMC --> OBESIDADE\n",
      "Precisa consultar um PROFISSIONAL DE SAÚDE!\n"
     ]
    }
   ],
   "source": [
    "#caluladora IMC\n",
    "print(format('vamos calcular o seu IMC'))\n",
    "\n",
    "peso=float(input('informe seu peso? '))\n",
    "altura=float(input('informe sua altura'))\n",
    "\n",
    "imc=peso/altura**2\n",
    "\n",
    "print(f'seu é peso {peso}')\n",
    "print(f'sua altura é {altura}')\n",
    "print(f'seu imc é {imc}')\n",
    "\n",
    "if imc <=(18.5):\n",
    "    print('Situação do IMC --> MAGREZA')\n",
    "    \n",
    "elif imc <=24.9:\n",
    "    print('Situação do IMC --> NORMAL')\n",
    "\n",
    "elif imc <=30:\n",
    "    print('Situação do IMC --> SOBREPESO')\n",
    "    print('ATENçÃO aos seus marcadores!')\n",
    "else:\n",
    "    print('Situação do IMC --> OBESIDADE')\n",
    "    print('Precisa consultar um PROFISSIONAL DE SAÚDE!')\n"
   ]
  }
 ],
 "metadata": {
  "kernelspec": {
   "display_name": "Python 3",
   "language": "python",
   "name": "python3"
  },
  "language_info": {
   "codemirror_mode": {
    "name": "ipython",
    "version": 3
   },
   "file_extension": ".py",
   "mimetype": "text/x-python",
   "name": "python",
   "nbconvert_exporter": "python",
   "pygments_lexer": "ipython3",
   "version": "3.10.11"
  },
  "orig_nbformat": 4
 },
 "nbformat": 4,
 "nbformat_minor": 2
}

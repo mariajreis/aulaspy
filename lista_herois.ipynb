{
 "cells": [
  {
   "cell_type": "code",
   "execution_count": 1,
   "metadata": {},
   "outputs": [
    {
     "name": "stdout",
     "output_type": "stream",
     "text": [
      "1 - Homem Aranha \n",
      "2 - Homem de Ferro \n",
      "3 - Volverine \n",
      "4 - Capitão America \n",
      "5 - Superman \n",
      "Resultado da eleição:\n",
      "Homem Aranha : 4 votos\n",
      "Homem de Ferro : 1 votos\n",
      "Volverine : 1 votos\n",
      "Capitão America : 1 votos\n",
      "Superman : 3 votos\n"
     ]
    }
   ],
   "source": [
    "lista_herois = {\n",
    "    1:'Homem Aranha ',\n",
    "    2:'Homem de Ferro ',\n",
    "    3:'Volverine ',\n",
    "    4:'Capitão America ',\n",
    "    5:'Superman '\n",
    "}\n",
    "\n",
    "for numero, nome in lista_herois.items():\n",
    "    print(f\"{numero} - {nome}\")\n",
    "\n",
    "votos = {}\n",
    "\n",
    "while True:\n",
    "    voto = int(input(\"Digite o número do candidato escolhido (ou 0 para sair): \"))\n",
    "\n",
    "    if voto == 0:\n",
    "        break\n",
    "\n",
    "    if voto in lista_herois:\n",
    "        if voto in votos:\n",
    "            votos[voto] += 1\n",
    "        else:\n",
    "            votos[voto] = 1\n",
    "    else:\n",
    "        print(\"Voto inválido!\")\n",
    "\n",
    "print(\"Resultado da eleição:\")\n",
    "\n",
    "for numero, nome in lista_herois.items():\n",
    "    if numero in votos:\n",
    "        print(f\"{nome}: {votos[numero]} votos\")\n",
    "    else:\n",
    "        print(f\"{nome}: 0 votos\")"
   ]
  }
 ],
 "metadata": {
  "kernelspec": {
   "display_name": "Python 3",
   "language": "python",
   "name": "python3"
  },
  "language_info": {
   "codemirror_mode": {
    "name": "ipython",
    "version": 3
   },
   "file_extension": ".py",
   "mimetype": "text/x-python",
   "name": "python",
   "nbconvert_exporter": "python",
   "pygments_lexer": "ipython3",
   "version": "3.10.11"
  },
  "orig_nbformat": 4
 },
 "nbformat": 4,
 "nbformat_minor": 2
}

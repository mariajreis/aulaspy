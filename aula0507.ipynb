{
 "cells": [
  {
   "cell_type": "code",
   "execution_count": null,
   "metadata": {},
   "outputs": [],
   "source": [
    "contador = lista.count(5)\n",
    "print (contador) #output:1\n",
    "\n",
    "lista.sort()\n",
    "print (lista) #utput: [1,2,3,4,5,6,7,8,9,10]\n",
    "\n",
    "lista.reverse()\n",
    "print(ista) #outuput [10,9,8,7,6,5,2,1]\n",
    "\n",
    "lista.clear()\n",
    "print(lista) #output[]\n",
    "\n",
    "copia.lista.copy()\n",
    "print(copia) #output: []\n",
    "\n"
   ]
  },
  {
   "cell_type": "code",
   "execution_count": 1,
   "metadata": {},
   "outputs": [
    {
     "name": "stdout",
     "output_type": "stream",
     "text": [
      "('maria', 'jose', 'luiz', 'fabio', 'joana')\n"
     ]
    }
   ],
   "source": [
    "\n",
    "\n",
    "candidatos=('maria', 'jose', 'luiz', 'fabio', 'joana')\n",
    "print(candidatos)\n",
    "\n"
   ]
  },
  {
   "cell_type": "code",
   "execution_count": 2,
   "metadata": {},
   "outputs": [
    {
     "name": "stdout",
     "output_type": "stream",
     "text": [
      "['maria']\n",
      "['maria', 'maria']\n",
      "['maria', 'maria', 'luiz']\n",
      "['maria', 'maria', 'luiz', 'fabio']\n",
      "['maria', 'maria', 'luiz', 'fabio', 'joana']\n",
      "['maria', 'maria', 'luiz', 'fabio', 'joana']\n"
     ]
    }
   ],
   "source": [
    "lista = []\n",
    "x=0\n",
    "contador=0\n",
    "\n",
    "while contador <5:\n",
    "    nome=str(input('digite nome'))    \n",
    "    \n",
    "    lista.append(nome)\n",
    "    contador = contador +1\n",
    "    print(f'{lista}')\n",
    "\n",
    "print(f'{lista}')"
   ]
  },
  {
   "cell_type": "code",
   "execution_count": 3,
   "metadata": {},
   "outputs": [
    {
     "name": "stdout",
     "output_type": "stream",
     "text": [
      "{2}\n"
     ]
    }
   ],
   "source": [
    "print({lista.count (\"maria\")})"
   ]
  },
  {
   "cell_type": "code",
   "execution_count": 8,
   "metadata": {},
   "outputs": [
    {
     "name": "stdout",
     "output_type": "stream",
     "text": [
      "2\n",
      "2\n",
      "1\n"
     ]
    },
    {
     "ename": "KeyboardInterrupt",
     "evalue": "",
     "output_type": "error",
     "traceback": [
      "\u001b[1;31m---------------------------------------------------------------------------\u001b[0m",
      "\u001b[1;31mKeyboardInterrupt\u001b[0m                         Traceback (most recent call last)",
      "Cell \u001b[1;32mIn[8], line 7\u001b[0m\n\u001b[0;32m      4\u001b[0m \u001b[39mif\u001b[39;00m i \u001b[39m==\u001b[39m\u001b[39m\"\u001b[39m\u001b[39mmaria\u001b[39m\u001b[39m\"\u001b[39m:\n\u001b[0;32m      5\u001b[0m     \u001b[39mprint\u001b[39m(lista\u001b[39m.\u001b[39mcount (\u001b[39m\"\u001b[39m\u001b[39mmaria\u001b[39m\u001b[39m\"\u001b[39m))\n\u001b[1;32m----> 7\u001b[0m \u001b[39melif\u001b[39;00m i \u001b[39m==\u001b[39;49m\u001b[39m\"\u001b[39;49m\u001b[39mluiz\u001b[39;49m\u001b[39m\"\u001b[39;49m:\n\u001b[0;32m      8\u001b[0m     \u001b[39mprint\u001b[39m(lista\u001b[39m.\u001b[39mcount (\u001b[39m\"\u001b[39m\u001b[39mluiz\u001b[39m\u001b[39m\"\u001b[39m))\n\u001b[0;32m     10\u001b[0m \u001b[39melif\u001b[39;00m i \u001b[39m!=\u001b[39m\u001b[39m\"\u001b[39m\u001b[39mmaria\u001b[39m\u001b[39m\"\u001b[39m \u001b[39mand\u001b[39;00m i \u001b[39m!=\u001b[39m \u001b[39m\"\u001b[39m\u001b[39mluiz\u001b[39m\u001b[39m\"\u001b[39m:\n",
      "\u001b[1;31mKeyboardInterrupt\u001b[0m: "
     ]
    }
   ],
   "source": [
    "while True:\n",
    "    for i in lista:\n",
    "        #print({lista.count (\"maria\")})\n",
    "        if i ==\"maria\":\n",
    "            print(lista.count (\"maria\"))\n",
    "\n",
    "        elif i ==\"luiz\":\n",
    "            print(lista.count (\"luiz\"))\n",
    "\n",
    "        elif i !=\"maria\" and i != \"luiz\":\n",
    "            lista.extend([\"pedro\"])\n",
    "\n",
    "        else:\n",
    "            break\n",
    "    \n",
    "    break\n",
    "    "
   ]
  },
  {
   "cell_type": "code",
   "execution_count": null,
   "metadata": {},
   "outputs": [],
   "source": [
    "\n",
    "print(lista)"
   ]
  },
  {
   "cell_type": "code",
   "execution_count": null,
   "metadata": {},
   "outputs": [],
   "source": [
    "#desafio: criar uma urna para N candidatos utilizando todos os metodos (pop, remove, append, sort, indev)\n",
    "\n",
    "contador=0\n",
    "soma=0 \n",
    "\n",
    "while contador < 5:\n",
    "    numero = int(input('Digite o numero '))\n",
    "    soma += numero\n",
    "    contador +=1\n",
    "    \n",
    "print(f\"soma {soma}:\")\n",
    "contador = contador +1\n"
   ]
  },
  {
   "attachments": {},
   "cell_type": "markdown",
   "metadata": {},
   "source": []
  }
 ],
 "metadata": {
  "kernelspec": {
   "display_name": "Python 3",
   "language": "python",
   "name": "python3"
  },
  "language_info": {
   "codemirror_mode": {
    "name": "ipython",
    "version": 3
   },
   "file_extension": ".py",
   "mimetype": "text/x-python",
   "name": "python",
   "nbconvert_exporter": "python",
   "pygments_lexer": "ipython3",
   "version": "3.10.11"
  },
  "orig_nbformat": 4
 },
 "nbformat": 4,
 "nbformat_minor": 2
}

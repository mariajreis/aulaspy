{
 "cells": [
  {
   "attachments": {},
   "cell_type": "markdown",
   "metadata": {},
   "source": [
    "# Mega Revisão"
   ]
  },
  {
   "attachments": {},
   "cell_type": "markdown",
   "metadata": {},
   "source": [
    "## String\n",
    "\n",
    "Uma string em Python é uma sequência de caracteres. Em Python, as strings são imutáveis, o que significa que uma vez definidas, elas não podem ser alteradas. As strings podem ser criadas usando aspas simples ('...') ou aspas duplas (\"...\")\n",
    "\n",
    "### Manipulação de String"
   ]
  },
  {
   "cell_type": "code",
   "execution_count": null,
   "metadata": {},
   "outputs": [],
   "source": [
    "#━━━━━━━━━━━━━━━━━━━━━━━━━━━❮◆❯━━━━━━━━━━━━━━━━━━━━━━━━━━━\n",
    "# programa que lei algo pelo teclado e mostre na tela o \n",
    "# seu tipo primitivo e todas as informações possíveis sobre ele\n",
    "#━━━━━━━━━━━━━━━━━━━━━━━━━━━❮◆❯━━━━━━━━━━━━━━━━━━━━━━━━━━━\n",
    "\n",
    "\n",
    "\n",
    "algo =input('Digite algo aqui: ') # OU algo =str(input('Digite algo aqui: '))  É A MESMA COISA\n",
    "print('')\n",
    "\n",
    "len(algo) #Retorna o comprimento (o número de caracteres) da string.\n",
    "\n",
    "\n",
    "print(algo.capitalize()) #Retorna uma cópia da string original com o primeiro caractere convertido para maiúsculo\n",
    "                            # e todos os outros caracteres convertidos para minúsculo.\n",
    "\n",
    "\n",
    "print(algo.count('a')) #Retorna o número de vezes que o caractere ou sub-string 'a' aparece na string.\n",
    "\n",
    "\n",
    "print(algo.startswith('a')) #Retorna True se a string começar com 'a', caso contrário, retorna False.\n",
    "\n",
    "\n",
    "print(algo.endswith('b')) #Retorna True se a string terminar com 'b', caso contrário, retorna False\n",
    "\n",
    "\n",
    "print(algo.isalnum()) #Retorna True se todos os caracteres na string forem alfanuméricos (ou seja, letras ou números),\n",
    "                        # caso contrário, retorna False.\n",
    "\n",
    "\n",
    "print(algo.isalpha()) #Retorna True se todos os caracteres na string forem letras, caso contrário, retorna False\n",
    "\n",
    "\n",
    "print(algo.islower()) #Retorna True se todos os caracteres alfabéticos na string forem minúsculos,\n",
    "                        # caso contrário, retorna False.\n",
    "\n",
    "\n",
    "print(algo.isupper()) #Retorna True se todos os caracteres alfabéticos na string forem maiúsculos,\n",
    "                        # caso contrário, retorna False.\n",
    "\n",
    "\n",
    "print(algo.lower()) #Retorna uma cópia da string com todos os caracteres alfabéticos convertidos para minúsculo.\n",
    "\n",
    "\n",
    "print(algo.upper()) #Retorna uma cópia da string com todos os caracteres alfabéticos convertidos para maiúsculo.\n",
    "\n",
    "\n",
    "print(algo.swapcase()) #Retorna uma cópia da string com maiúsculas convertidas para minúsculas e vice-versa.\n",
    "\n",
    "\n",
    "print(algo.title()) #Retorna uma cópia da string com o primeiro caractere de cada palavra\n",
    "                    # convertido para maiúsculo e os seguintes caracteres convertidos para minúsculo.\n",
    "\n",
    "\n",
    "print(algo.split()) #Divide a string em uma lista onde cada palavra é um item da lista.\n",
    "                    # Por padrão, qualquer espaço em branco é considerado um delimitador.\n",
    "\n",
    "\n",
    "print(algo.replace('a', 'b')) # Retorna uma cópia da string com todas as ocorrências\n",
    "                                # de 'a' substituídas por 'b'.\n",
    "\n",
    "\n",
    "print(algo.find('e')) # Retorna o índice da primeira ocorrência de 'e' na string.\n",
    "                        # Se 'e' não estiver na string, retorna -1.\n",
    "\n",
    "\n",
    "print(algo.strip()) #Retorna uma cópia da string com os caracteres de espaço em branco\n",
    "                    # iniciais e finais removidos. Se os caracteres não forem especificados,\n",
    "                    # os espaços em branco serão removidos.\n",
    "                    \n",
    "\n",
    "print(algo[0])  # Isso imprimirá o primeiro caracter da string\n"
   ]
  },
  {
   "attachments": {},
   "cell_type": "markdown",
   "metadata": {},
   "source": [
    "## Tipos de Operadores\n",
    "\n",
    "### Operadores Lógicos\n",
    "\n",
    "and --> Retorna True se ambas as condições forem verdadeiras.\n",
    "\n",
    "or --> Retorna True se pelo menos uma das condições for verdadeira. \n",
    "\n",
    "not --> Inverte o resultado, retorna False se o resultado for verdadeiro e True se o resultado for falso"
   ]
  },
  {
   "attachments": {},
   "cell_type": "markdown",
   "metadata": {},
   "source": [
    "### Exemplo and"
   ]
  },
  {
   "cell_type": "code",
   "execution_count": 3,
   "metadata": {},
   "outputs": [
    {
     "name": "stdout",
     "output_type": "stream",
     "text": [
      "True\n"
     ]
    }
   ],
   "source": [
    "x = 5\n",
    "print(x > 3 and x < 10)  # Retorna True porque 5 é maior que 3 AND 5 é menor que 10\n"
   ]
  },
  {
   "attachments": {},
   "cell_type": "markdown",
   "metadata": {},
   "source": [
    "### Exemplo or"
   ]
  },
  {
   "cell_type": "code",
   "execution_count": 2,
   "metadata": {},
   "outputs": [
    {
     "name": "stdout",
     "output_type": "stream",
     "text": [
      "True\n"
     ]
    }
   ],
   "source": [
    "x = 5\n",
    "print(x < 3 or x > 4)  # Retorna True porque uma das condições é verdadeira (5 é maior que 4)\n"
   ]
  },
  {
   "attachments": {},
   "cell_type": "markdown",
   "metadata": {},
   "source": [
    "### Exemplo not"
   ]
  },
  {
   "cell_type": "code",
   "execution_count": 1,
   "metadata": {},
   "outputs": [
    {
     "name": "stdout",
     "output_type": "stream",
     "text": [
      "False\n"
     ]
    }
   ],
   "source": [
    "x = 5\n",
    "print(not(x > 3 and x < 10))  # Retorna False porque not é usado para inverter o resultado verdadeiro da expressão lógica\n"
   ]
  },
  {
   "attachments": {},
   "cell_type": "markdown",
   "metadata": {},
   "source": [
    "### Operadores Aritméticos\n",
    "\n",
    "'+' (Adição)--> Adiciona valores de ambos os lados do operador. Por exemplo, 5 + 3 resulta em 8.\n",
    "\n",
    "'-' (Subtração)--> Subtrai o operando da direita do operando da esquerda. Por exemplo, 5 - 3 resulta em 2.\n",
    "\n",
    "'*' (Multiplicação)--> Multiplica os valores de ambos os lados do operador. Por exemplo, 5 * 3 resulta em 15.\n",
    "\n",
    "'/' (Divisão)--> Divide o operando da esquerda pelo operando da direita. Por exemplo, 10 / 2 resulta em 5.\n",
    "\n",
    "'%' (Módulo)--> Retorna o resto da divisão. Por exemplo, 10 % 3 resulta em 1 porque 1 é o resto quando 10 é dividido por 3.\n",
    "\n",
    "'**' (Exponenciação)--> Realiza a exponenciação (potência) de números. Por exemplo, 2 ** 3 resulta em 8.\n",
    "\n",
    "'//' (Divisão inteira)--> Divide o operando da esquerda pelo operando da direita e retorna o quociente inteiro da divisão. Por exemplo, 10 // 3 resulta em 3."
   ]
  },
  {
   "cell_type": "code",
   "execution_count": null,
   "metadata": {},
   "outputs": [],
   "source": [
    "x = 10\n",
    "y = 3\n",
    "\n",
    "print(x + y)  # Resultado: 13\n",
    "print(x - y)  # Resultado: 7\n",
    "print(x * y)  # Resultado: 30\n",
    "print(x / y)  # Resultado: 3.3333333333333335\n",
    "print(x % y)  # Resultado: 1\n",
    "print(x ** y) # Resultado: 1000\n",
    "print(x // y) # Resultado: 3\n"
   ]
  },
  {
   "attachments": {},
   "cell_type": "markdown",
   "metadata": {},
   "source": [
    "### Operadores Comparativos\n",
    "\n",
    "'==' (Igual a): Verifica se os valores de dois operandos são iguais. Se sim, a condição torna-se verdadeira. Por exemplo, (5 == 3) retorna False.\n",
    "\n",
    "'!=' (Diferente de)--> Verifica se os valores de dois operandos são iguais. Se os valores não forem iguais, a condição torna-se verdadeira. Por exemplo, (5 != 3) retorna True.\n",
    "\n",
    "'>' (Maior que)--> Verifica se o valor do operando esquerdo é maior que o valor do operando direito. Se sim, a condição torna-se verdadeira. Por exemplo, (5 > 3) retorna True.\n",
    "\n",
    "'<' (Menor que)--> Verifica se o valor do operando esquerdo é menor que o valor do operando direito. Se sim, a condição torna-se verdadeira. Por exemplo, (5 < 3) retorna False.\n",
    "\n",
    "'>=' (Maior que ou igual a)--> Verifica se o valor do operando esquerdo é maior ou igual ao valor do operando direito. Se sim, a condição torna-se verdadeira. Por exemplo, (5 >= 3) retorna True.\n",
    "\n",
    "'<=' (Menor que ou igual a)--> Verifica se o valor do operando esquerdo é menor ou igual ao valor do operando direito. Se sim, a condição torna-se verdadeira. Por exemplo, (5 <= 3) retorna False."
   ]
  },
  {
   "cell_type": "code",
   "execution_count": null,
   "metadata": {},
   "outputs": [],
   "source": [
    "x = 10\n",
    "y = 3\n",
    "\n",
    "print(x == y)  # Resultado: False\n",
    "print(x != y)  # Resultado: True\n",
    "print(x > y)   # Resultado: True\n",
    "print(x < y)   # Resultado: False\n",
    "print(x >= y)  # Resultado: True\n",
    "print(x <= y)  # Resultado: False\n"
   ]
  },
  {
   "attachments": {},
   "cell_type": "markdown",
   "metadata": {},
   "source": [
    "### Condicionais\n",
    "\n",
    "if --> A instrução if é usada para testar uma condição e executar um bloco de código se a condição for verdadeira.\n",
    "\n",
    "elif--> A instrução elif (else if) é usada para testar várias condições em sequência. Se a condição em uma instrução if ou elif anterior for falsa, a condição na instrução elif é testada. Se for verdadeira, o bloco de código sob a instrução elif é executado.\n",
    "\n",
    "else --> A instrução else é usada para especificar um bloco de código a ser executado se todas as condições em instruções if e elif anteriores forem falsas. "
   ]
  },
  {
   "cell_type": "code",
   "execution_count": 4,
   "metadata": {},
   "outputs": [
    {
     "name": "stdout",
     "output_type": "stream",
     "text": [
      "x é maior que 15\n",
      "x é menor que 20\n"
     ]
    }
   ],
   "source": [
    "x = 19\n",
    "\n",
    "if x > 15:\n",
    "    print(\"x é maior que 15\")\n",
    "    if x <20:\n",
    "        print('x é menor que 20')\n",
    "elif x > 20:\n",
    "    print(\"x é maior que 20\")\n",
    "else:\n",
    "    print(\"x é menor ou igual a 15\")\n"
   ]
  },
  {
   "attachments": {},
   "cell_type": "markdown",
   "metadata": {},
   "source": [
    "### Listas\n",
    "\n",
    "Criação --> Uma lista é uma coleção ordenada e mutável de itens. Os itens são separados por vírgulas e envolvidos em colchetes []\n",
    "\n",
    "Acesso a itens --> Você pode acessar um item em uma lista referindo-se ao seu índice. Os índices em Python começam em 0\n",
    "\n",
    "Alteração de itens --> Como as listas são mutáveis, você pode alterar um item em uma lista referindo-se ao seu índice.\n",
    "\n",
    "Adição de itens --> Você pode adicionar um item ao final de uma lista usando o método append(). Para adicionar um item em uma posição específica, use o método insert()\n",
    "\n",
    "Remoção de itens --> Você pode remover um item de uma lista usando o método remove(), que remove a primeira ocorrência do item. Para remover um item em uma posição específica, use o método pop(). Se pop() for chamado sem um índice, ele remove e retorna o último item na lista\n",
    "\n",
    "Tamanho da lista --> Você pode obter o número de itens em uma lista usando a função len()"
   ]
  },
  {
   "attachments": {},
   "cell_type": "markdown",
   "metadata": {},
   "source": [
    "### Exemplo de Criação"
   ]
  },
  {
   "cell_type": "code",
   "execution_count": null,
   "metadata": {},
   "outputs": [],
   "source": [
    "lista = [1, 2, 3, 4, 5]\n",
    "lista[0] = 10\n",
    "print(lista)  # Resultado: [10, 2, 3, 4, 5]\n"
   ]
  },
  {
   "attachments": {},
   "cell_type": "markdown",
   "metadata": {},
   "source": [
    "### Exemplo de Acesso"
   ]
  },
  {
   "cell_type": "code",
   "execution_count": null,
   "metadata": {},
   "outputs": [],
   "source": [
    "lista = [1, 2, 3, 4, 5]\n",
    "print(lista[0])  # Resultado: 1\n"
   ]
  },
  {
   "attachments": {},
   "cell_type": "markdown",
   "metadata": {},
   "source": [
    "### Exemplo de Aleteração"
   ]
  },
  {
   "cell_type": "code",
   "execution_count": null,
   "metadata": {},
   "outputs": [],
   "source": [
    "lista = [1, 2, 3, 4, 5]\n",
    "lista[0] = 10\n",
    "print(lista)  # Resultado: [10, 2, 3, 4, 5]\n"
   ]
  },
  {
   "attachments": {},
   "cell_type": "markdown",
   "metadata": {},
   "source": [
    "### Exemplo de Adição"
   ]
  },
  {
   "cell_type": "code",
   "execution_count": 4,
   "metadata": {},
   "outputs": [
    {
     "name": "stdout",
     "output_type": "stream",
     "text": [
      "[1, 2, 3, 4, 5, 6]\n",
      "[0, 1, 2, 3, 4, 5, 6]\n"
     ]
    }
   ],
   "source": [
    "lista = [1, 2, 3, 4, 5]\n",
    "lista.append(6)\n",
    "print(lista)  # Resultado: [1, 2, 3, 4, 5, 6]\n",
    "lista.insert(0, 0)\n",
    "print(lista)  # Resultado: [0, 1, 2, 3, 4, 5, 6]\n"
   ]
  },
  {
   "attachments": {},
   "cell_type": "markdown",
   "metadata": {},
   "source": [
    "### Exemplo de Remoção"
   ]
  },
  {
   "cell_type": "code",
   "execution_count": null,
   "metadata": {},
   "outputs": [],
   "source": [
    "lista = [1, 2, 3, 4, 5]\n",
    "lista.remove(1)\n",
    "print(lista)  # Resultado: [2, 3, 4, 5]\n",
    "exemplo =lista.pop(0)\n",
    "print(lista)  # Resultado: [3, 4, 5]\n"
   ]
  },
  {
   "attachments": {},
   "cell_type": "markdown",
   "metadata": {},
   "source": [
    "### Tamanho da Lista"
   ]
  },
  {
   "cell_type": "code",
   "execution_count": null,
   "metadata": {},
   "outputs": [],
   "source": [
    "lista = [1, 2, 3, 4, 5]\n",
    "print(len(lista))  # Resultado: 5\n"
   ]
  },
  {
   "attachments": {},
   "cell_type": "markdown",
   "metadata": {},
   "source": [
    "### Laço de Repetição While\n",
    "\n",
    "Estrutura básica --> Um laço while executa um bloco de código repetidamente enquanto uma condição é verdadeira\n",
    "\n",
    "Controle de fluxo --> Você pode usar as instruções break e continue para alterar o fluxo de controle em um laço while. A instrução break termina o laço imediatamente e a execução do programa continua após o laço. A instrução continue termina a iteração atual do laço e a execução do laço continua com a próxima iteração\n",
    "\n",
    "Laço while infinito --> Se a condição em um laço while nunca se tornar falsa, o laço continuará indefinidamente, criando um laço infinito. Isso geralmente é indesejável, pois pode fazer com que o programa trave. Você deve sempre garantir que algo dentro do laço cause a condição a se tornar falsa em algum momento para que o laço possa terminar."
   ]
  },
  {
   "attachments": {},
   "cell_type": "markdown",
   "metadata": {},
   "source": [
    "### Exemplo de Estrutura Básica"
   ]
  },
  {
   "cell_type": "code",
   "execution_count": 5,
   "metadata": {},
   "outputs": [
    {
     "name": "stdout",
     "output_type": "stream",
     "text": [
      "1\n",
      "2\n",
      "3\n",
      "4\n",
      "5\n"
     ]
    }
   ],
   "source": [
    "i = 1\n",
    "while i <= 5:\n",
    "    print(i)\n",
    "    i += 1\n",
    "\n"
   ]
  },
  {
   "attachments": {},
   "cell_type": "markdown",
   "metadata": {},
   "source": [
    "### Exemplo de Controle de Fluxo"
   ]
  },
  {
   "cell_type": "code",
   "execution_count": null,
   "metadata": {},
   "outputs": [],
   "source": [
    "i = 1\n",
    "while i <= 5:\n",
    "    if i == 3:\n",
    "        break\n",
    "    print(i)\n",
    "    i += 1\n"
   ]
  },
  {
   "attachments": {},
   "cell_type": "markdown",
   "metadata": {},
   "source": [
    "### Exemplo de while Infinito"
   ]
  },
  {
   "cell_type": "code",
   "execution_count": 6,
   "metadata": {},
   "outputs": [],
   "source": [
    "while True:\n",
    "    resposta = input(\"Digite 'sair' para terminar o programa: \")\n",
    "    if resposta.lower() == 'sair':\n",
    "        break\n"
   ]
  },
  {
   "attachments": {},
   "cell_type": "markdown",
   "metadata": {},
   "source": [
    "### laço de repetição for\n",
    "\n",
    "Estrutura básica --> Um laço for é usado para iterar sobre uma sequência (que pode ser uma lista, uma tupla, um dicionário, um conjunto ou uma string)\n",
    "\n",
    "Função range() --> A função range() é frequentemente usada em laços for para gerar uma sequência de números.\n",
    "\n",
    "Controle de fluxo --> Assim como com laços while, você pode usar as instruções break e continue para alterar o fluxo de controle em um laço for. A instrução break termina o laço imediatamente e a execução do programa continua após o laço. A instrução continue termina a iteração atual do laço e a execução do laço continua com a próxima iteração."
   ]
  },
  {
   "attachments": {},
   "cell_type": "markdown",
   "metadata": {},
   "source": [
    "### Exemplo de Estrutura Básica"
   ]
  },
  {
   "cell_type": "code",
   "execution_count": 7,
   "metadata": {},
   "outputs": [
    {
     "name": "stdout",
     "output_type": "stream",
     "text": [
      "P\n",
      "y\n",
      "t\n",
      "h\n",
      "o\n",
      "n\n"
     ]
    }
   ],
   "source": [
    "for letra in \"Python\":\n",
    "    print(letra)\n"
   ]
  },
  {
   "attachments": {},
   "cell_type": "markdown",
   "metadata": {},
   "source": [
    "### Exemplo de Função range()"
   ]
  },
  {
   "cell_type": "code",
   "execution_count": 7,
   "metadata": {},
   "outputs": [
    {
     "name": "stdout",
     "output_type": "stream",
     "text": [
      "0\n",
      "1\n",
      "2\n",
      "3\n",
      "4\n"
     ]
    }
   ],
   "source": [
    "for i in range(5):\n",
    "    print(i)\n"
   ]
  },
  {
   "attachments": {},
   "cell_type": "markdown",
   "metadata": {},
   "source": [
    "### Exemplo de Controle de Fluxo"
   ]
  },
  {
   "cell_type": "code",
   "execution_count": null,
   "metadata": {},
   "outputs": [],
   "source": [
    "for i in range(5):\n",
    "    if i == 3:\n",
    "        break\n",
    "    print(i)\n"
   ]
  },
  {
   "attachments": {},
   "cell_type": "markdown",
   "metadata": {},
   "source": [
    "# Desafio Geral"
   ]
  },
  {
   "attachments": {},
   "cell_type": "markdown",
   "metadata": {},
   "source": [
    "Crie um programa que permita ao usuário gerenciar uma lista de tarefas. O programa deve oferecer as seguintes opções:\n",
    "\n",
    "Adicionar uma tarefa.\n",
    "\n",
    "Remover uma tarefa.\n",
    "\n",
    "Visualizar todas as tarefas. enumerate()\n",
    "\n",
    "Sair do programa.\n",
    "\n",
    "Cada tarefa deve ser uma string e todas as tarefas devem ser armazenadas em uma lista. O programa deve continuar executando e aceitando entradas do usuário até que ele escolha a opção de sair."
   ]
  },
  {
   "cell_type": "code",
   "execution_count": 12,
   "metadata": {},
   "outputs": [
    {
     "name": "stdout",
     "output_type": "stream",
     "text": [
      "\n",
      "Gerenciador de Tarefas\n",
      "1. Adicionar uma tarefa\n",
      "2. Remover uma tarefa\n",
      "3. Visualizar todas as tarefas\n",
      "4. Sair\n",
      "Tarefa 'programar' adicionada com sucesso!\n",
      "\n",
      "Gerenciador de Tarefas\n",
      "1. Adicionar uma tarefa\n",
      "2. Remover uma tarefa\n",
      "3. Visualizar todas as tarefas\n",
      "4. Sair\n",
      "Tarefa 'estudar' adicionada com sucesso!\n",
      "\n",
      "Gerenciador de Tarefas\n",
      "1. Adicionar uma tarefa\n",
      "2. Remover uma tarefa\n",
      "3. Visualizar todas as tarefas\n",
      "4. Sair\n",
      "\n",
      "Tarefas:\n",
      "1. programar\n",
      "2. estudar\n",
      "\n",
      "Gerenciador de Tarefas\n",
      "1. Adicionar uma tarefa\n",
      "2. Remover uma tarefa\n",
      "3. Visualizar todas as tarefas\n",
      "4. Sair\n",
      "\n",
      "Tarefas:\n",
      "1. programar\n",
      "2. estudar\n",
      "\n",
      "Gerenciador de Tarefas\n",
      "1. Adicionar uma tarefa\n",
      "2. Remover uma tarefa\n",
      "3. Visualizar todas as tarefas\n",
      "4. Sair\n",
      "\n",
      "Tarefas:\n",
      "1. programar\n",
      "2. estudar\n",
      "\n",
      "Gerenciador de Tarefas\n",
      "1. Adicionar uma tarefa\n",
      "2. Remover uma tarefa\n",
      "3. Visualizar todas as tarefas\n",
      "4. Sair\n",
      "Saindo do programa...\n"
     ]
    }
   ],
   "source": [
    "# Inicializamos uma lista vazia para armazenar as tarefas\n",
    "tarefas = []\n",
    "\n",
    "# O programa continuará executando até que o usuário escolha a opção de sair\n",
    "while True:\n",
    "    print(\"\\nGerenciador de Tarefas\")\n",
    "    print(\"1. Adicionar uma tarefa\")\n",
    "    print(\"2. Remover uma tarefa\")\n",
    "    print(\"3. Visualizar todas as tarefas\")\n",
    "    print(\"4. Sair\")\n",
    "    \n",
    "    # Solicitamos ao usuário que escolha uma opção\n",
    "    opcao = int(input(\"Escolha uma opção: \"))\n",
    "    \n",
    "    # Se o usuário escolher a opção 1, pedimos que ele digite a tarefa que deseja adicionar\n",
    "    if opcao == 1:\n",
    "        tarefa = input(\"Digite a tarefa que deseja adicionar: \")\n",
    "        tarefas.append(tarefa)  # Adicionamos a tarefa à lista\n",
    "        print(f\"Tarefa '{tarefa}' adicionada com sucesso!\")\n",
    "    \n",
    "    # Se o usuário escolher a opção 2, pedimos que ele digite a tarefa que deseja remover\n",
    "    elif opcao == 2:\n",
    "        tarefa = input(\"Digite a tarefa que deseja remover: \")\n",
    "        # Verificamos se a tarefa está na lista\n",
    "        if tarefa in tarefas:\n",
    "            tarefas.remove(tarefa)  # Removemos a tarefa da lista\n",
    "            print(f\"Tarefa '{tarefa}' removida com sucesso!\")\n",
    "        else:\n",
    "            print(\"Essa tarefa não existe na lista.\")\n",
    "    \n",
    "    # Se o usuário escolher a opção 3, mostramos todas as tarefas na lista\n",
    "    elif opcao == 3:\n",
    "        print(\"\\nTarefas:\")\n",
    "        for i, tarefa in enumerate(tarefas, start=1):\n",
    "            print(f\"{i}. {tarefa}\")\n",
    "    \n",
    "    # Se o usuário escolher a opção 4, terminamos o laço e saímos do programa\n",
    "    elif opcao == 4:\n",
    "        print(\"Saindo do programa...\")\n",
    "        break\n",
    "    \n",
    "    # Se o usuário escolher uma opção que não seja 1, 2, 3 ou 4, informamos que a opção é inválida\n",
    "    else:\n",
    "        print(\"Opção inválida. Por favor, escolha uma opção entre 1 e 4.\")\n"
   ]
  },
  {
   "attachments": {},
   "cell_type": "markdown",
   "metadata": {},
   "source": [
    "### Definição de Funções no Python\n",
    "\n"
   ]
  },
  {
   "attachments": {},
   "cell_type": "markdown",
   "metadata": {},
   "source": [
    "#### O que são, onde vivem e pra que servem?\n",
    "\n",
    "Funções são blocos de código reutilizáveis que realizam uma tarefa específica.\n",
    "\n",
    "Elas são úteis porque nos permitem dividir nosso código em partes menores e reutilizáveis, o que torna nosso código mais organizado e mais fácil de entender.\n",
    "\n",
    "Em Python, definimos uma função usando a palavra-chave def, seguida pelo nome da função, parênteses e dois pontos"
   ]
  },
  {
   "attachments": {},
   "cell_type": "markdown",
   "metadata": {},
   "source": [
    "### Exemplo de aplicação"
   ]
  },
  {
   "cell_type": "code",
   "execution_count": 9,
   "metadata": {},
   "outputs": [
    {
     "name": "stdout",
     "output_type": "stream",
     "text": [
      "Função foda\n"
     ]
    }
   ],
   "source": [
    "def minha_funcao():\n",
    "    print(\"Função foda\")\n",
    "    \n",
    "    \n",
    "minha_funcao()\n"
   ]
  },
  {
   "attachments": {},
   "cell_type": "markdown",
   "metadata": {},
   "source": [
    "## Parâmetros e Argumentos de Função\n",
    "\n",
    "Parâmetros são variáveis que usamos na definição da função, enquanto argumentos são os valores que passamos para a função quando a chamamos."
   ]
  },
  {
   "attachments": {},
   "cell_type": "markdown",
   "metadata": {},
   "source": [
    "### Exemplo de Aplicação"
   ]
  },
  {
   "cell_type": "code",
   "execution_count": null,
   "metadata": {},
   "outputs": [],
   "source": [
    "def quadrado(numero):\n",
    "    print(numero ** 2)\n"
   ]
  },
  {
   "attachments": {},
   "cell_type": "markdown",
   "metadata": {},
   "source": [
    "### Retorno de Funções\n",
    "\n",
    "A instrução return é usada para fazer uma função retornar um valor. \n",
    "Quando Python encontra uma instrução return, ele sairá da função imediatamente e passará o valor de volta ao chamador."
   ]
  },
  {
   "cell_type": "code",
   "execution_count": null,
   "metadata": {},
   "outputs": [],
   "source": [
    "def quadrado(numero):\n",
    "    return numero ** 2\n",
    "\n",
    "resultado = quadrado(5)  # resultado agora é 25\n",
    "print(resultado)  # Isso imprimirá 25\n"
   ]
  },
  {
   "attachments": {},
   "cell_type": "markdown",
   "metadata": {},
   "source": [
    "# DIFERENÇA ENTRE PRINT E RETURN\n",
    "\n",
    "## print\n",
    "\n",
    "A função print em Python é usada para imprimir informações na tela.\n",
    "Quando você usa a função print, você está dizendo ao programa para exibir determinado texto na tela.\n",
    "Isso é útil para fornecer informações ao usuário, para depuração, entre outros. No entanto, print não afeta o fluxo de execução do programa e não produz um valor que possa ser usado em outras partes do seu código. "
   ]
  },
  {
   "attachments": {},
   "cell_type": "markdown",
   "metadata": {},
   "source": [
    "## return\n",
    "\n",
    "Por outro lado, a palavra-chave return em Python é usada para terminar a execução de uma função e \"retornar\" um valor do ponto de chamada da função.\n",
    "\n",
    "Quando uma instrução return é atingida em uma função, a função termina imediatamente e o valor especificado é retornado.\n",
    "\n",
    "Este valor retornado pode então ser usado em outras partes do seu código. "
   ]
  },
  {
   "cell_type": "code",
   "execution_count": 2,
   "metadata": {},
   "outputs": [
    {
     "name": "stdout",
     "output_type": "stream",
     "text": [
      "Olá, mundo!\n",
      "Olá, mundo!\n"
     ]
    }
   ],
   "source": [
    "def minha_funcao():\n",
    "    print(\"Olá, mundo!\")\n",
    "\n",
    "minha_funcao()\n",
    "\n",
    "\n",
    "\n",
    "def minha_funcao2():\n",
    "    return \"Olá, mundo!\"\n",
    "\n",
    "mensagem = minha_funcao2()\n",
    "print(mensagem)\n"
   ]
  },
  {
   "attachments": {},
   "cell_type": "markdown",
   "metadata": {},
   "source": [
    "## Primeiro Exercicio\n",
    "\n",
    "Calculadora de tabuada de 0 a 10 com numero inputado pelo usuario função"
   ]
  },
  {
   "cell_type": "code",
   "execution_count": 10,
   "metadata": {},
   "outputs": [
    {
     "name": "stdout",
     "output_type": "stream",
     "text": [
      "#━━━━━━━━━━━━━━━❮◆❯━━━━━━━━━━━━━━━\n",
      "\n",
      "54.0 x 0 = 0.0\n",
      "\n",
      "54.0 x 1 = 54.0\n",
      "\n",
      "54.0 x 2 = 108.0\n",
      "\n",
      "54.0 x 3 = 162.0\n",
      "\n",
      "54.0 x 4 = 216.0\n",
      "\n",
      "54.0 x 5 = 270.0\n",
      "\n",
      "54.0 x 6 = 324.0\n",
      "\n",
      "54.0 x 7 = 378.0\n",
      "\n",
      "54.0 x 8 = 432.0\n",
      "\n",
      "54.0 x 9 = 486.0\n",
      "\n",
      "54.0 x 10 = 540.0\n",
      "\n",
      "#━━━━━━━━━━━━━━━❮◆❯━━━━━━━━━━━━━━━\n"
     ]
    }
   ],
   "source": [
    "numero =float(input('Digite o número para a tabuada: '))\n",
    "print('#━━━━━━━━━━━━━━━❮◆❯━━━━━━━━━━━━━━━')\n",
    "print('')\n",
    "\n",
    "def tabuada(num):\n",
    "    for i in range(11):\n",
    "        print(f\"{num} x {i} = {num * i}\")\n",
    "        print('')\n",
    "        \n",
    "        \n",
    "\n",
    "tabuada(numero)\n",
    "print('#━━━━━━━━━━━━━━━❮◆❯━━━━━━━━━━━━━━━')"
   ]
  },
  {
   "attachments": {},
   "cell_type": "markdown",
   "metadata": {},
   "source": [
    "# Exercicio de hoje, esse sim obrigatório!\n",
    "\n",
    "## Calculo de IMC\n",
    "\n",
    "\n",
    "Para calcular o IMC você fará a conta: peso / (altura ** 2)\n",
    "\n",
    "IMC abaixo de 18.5: \"Abaixo do peso\"\n",
    "IMC entre 18.5 e 24.9: \"Peso normal\"\n",
    "IMC entre 25 e 29.9: \"Sobrepeso\"\n",
    "IMC de 30 ou mais: \"Obesidade\""
   ]
  },
  {
   "attachments": {},
   "cell_type": "markdown",
   "metadata": {},
   "source": [
    "## Resolução"
   ]
  },
  {
   "cell_type": "code",
   "execution_count": 3,
   "metadata": {},
   "outputs": [
    {
     "name": "stdout",
     "output_type": "stream",
     "text": [
      "Seu IMC é 17.9, o que é considerado 'Abaixo do peso'.\n"
     ]
    }
   ],
   "source": [
    "def calcula_imc(peso, altura):\n",
    "    # Calcule o IMC\n",
    "    imc = peso / (altura ** 2)\n",
    "\n",
    "    # Determine a categoria de IMC\n",
    "    if imc < 18.5:\n",
    "        categoria = \"Abaixo do peso\"\n",
    "    elif imc < 25:\n",
    "        categoria = \"Peso normal\"\n",
    "    elif imc < 30:\n",
    "        categoria = \"Sobrepeso\"\n",
    "    else:\n",
    "        categoria = \"Obesidade\"\n",
    "\n",
    "    # Retorne o IMC e a categoria\n",
    "    return f\"Seu IMC é {imc:.1f}, o que é considerado '{categoria}'.\"\n",
    "\n",
    "# Peça ao usuário que insira seu peso e altura\n",
    "while True:\n",
    "    peso = input(\"Digite seu peso em kg: \")\n",
    "    altura = input(\"Digite sua altura em metros: \")\n",
    "\n",
    "    # Verifique se o peso e a altura são números positivos\n",
    "    if peso.lstrip('-').replace('.', '', 1).isnumeric() and altura.lstrip('-').replace('.', '', 1).isnumeric():\n",
    "        peso = float(peso)\n",
    "        altura = float(altura)\n",
    "        if peso > 0 and altura > 0:\n",
    "            break\n",
    "\n",
    "    print(\"Entrada inválida. O peso e a altura devem ser números positivos.\")\n",
    "\n",
    "# Calcule o IMC do usuário e imprima o resultado\n",
    "print(calcula_imc(peso, altura))\n"
   ]
  },
  {
   "attachments": {},
   "cell_type": "markdown",
   "metadata": {},
   "source": [
    "# Tipos de Erro"
   ]
  },
  {
   "attachments": {},
   "cell_type": "markdown",
   "metadata": {},
   "source": [
    "## SyntaxError: \n",
    "Levantado quando o interpretador encontra um erro de sintaxe. Isso pode ocorrer se você esquecer de fechar uma aspa, por exemplo.\n",
    "\n",
    "## NameError:\n",
    "Levantado quando uma variável local ou global não é encontrada. Isso geralmente ocorre se você tentar usar uma variável antes de defini-la.\n",
    "\n",
    "## TypeError: \n",
    "Levantado quando uma operação ou função é aplicada a um objeto de tipo inadequado. Por exemplo, tentar adicionar uma string a um número resultará em um TypeError.\n",
    "\n",
    "## ValueError: \n",
    "Levantado quando uma função recebe um argumento do tipo correto, mas com um valor que é ilegal para a operação. Por exemplo, int('abc') resultará em um ValueError porque 'abc' não pode ser convertido em um número inteiro.\n",
    "\n",
    "## ZeroDivisionError: \n",
    "Levantado quando o segundo operando de uma divisão ou operação de módulo é zero.\n",
    "\n",
    "## FileNotFoundError: \n",
    "Levantado quando uma operação de arquivo (como abrir um arquivo) falha porque o arquivo especificado não existe.\n",
    "\n",
    "## IndexError: \n",
    "Levantado quando um índice de sequência está fora do intervalo. Isso pode ocorrer se você tentar acessar um elemento de uma lista usando um índice que é maior do que o comprimento da lista menos um.\n",
    "\n",
    "## KeyError: \n",
    "Levantado quando um dicionário é acessado com uma chave que não existe no dicionário.\n",
    "\n",
    "## AttributeError: \n",
    "Levantado quando um atributo de referência ou uma atribuição falha.\n",
    "\n",
    "## ImportError: \n",
    "Levantado quando a instrução import não consegue encontrar o módulo definido pelo usuário ou não consegue encontrar o nome especificado no módulo."
   ]
  },
  {
   "attachments": {},
   "cell_type": "markdown",
   "metadata": {},
   "source": [
    "### ━━━━━━━━━━━━━━━❮◆❯━━━━━━━━━━━━━━━\n"
   ]
  },
  {
   "attachments": {},
   "cell_type": "markdown",
   "metadata": {},
   "source": [
    "## Tratamento de erros\n",
    "\n",
    "Em Python, try e except são usados para o tratamento de exceções. Uma exceção é um evento que ocorre durante a execução de um programa que interrompe o fluxo normal do programa. As exceções são conhecidas como eventos anormais ou errôneos. Em Python, as exceções são acionadas automaticamente em erros, ou podem ser acionadas e interceptadas por seu código.\n",
    "\n",
    "\n",
    "## Exemplo de uso\n",
    "O bloco try contém o código que pode potencialmente causar uma exceção. O código dentro do bloco try é executado como normal. Se nenhuma exceção ocorrer, o bloco except é ignorado.\n",
    "\n",
    "\n",
    "Se uma exceção ocorrer durante a execução do bloco try, a execução é imediatamente passada para o bloco except, e o código dentro do bloco except é executado. O bloco except pode lidar com a exceção de alguma forma, ou pode decidir passar a exceção adiante, possivelmente para um manipulador de exceções externo.\n",
    "\n",
    "Você pode ter vários blocos except para lidar com diferentes tipos de exceções. Por exemplo:"
   ]
  },
  {
   "cell_type": "code",
   "execution_count": null,
   "metadata": {},
   "outputs": [],
   "source": [
    "try:\n",
    "    # código que pode causar uma exceção\n",
    "except ValueError:\n",
    "    # código que é executado se uma exceção ValueError ocorrer\n",
    "except ZeroDivisionError:\n",
    "    # código que é executado se uma exceção ZeroDivisionError ocorrer"
   ]
  },
  {
   "attachments": {},
   "cell_type": "markdown",
   "metadata": {},
   "source": [
    "### ━━━━━━━━━━━━━━━❮◆❯━━━━━━━━━━━━━━━\n"
   ]
  },
  {
   "attachments": {},
   "cell_type": "markdown",
   "metadata": {},
   "source": [
    "## Exemplo:\n",
    "### Escreva uma função que solicite ao usuário que insira uma série de números, um de cada vez, até que o usuário insira 'q' para sair. A função deve então retornar a média de todos os números inseridos. Se o usuário inserir algo que não seja um número, a função deve tratar a exceção e ignorar a entrada.\n"
   ]
  },
  {
   "cell_type": "code",
   "execution_count": 7,
   "metadata": {},
   "outputs": [
    {
     "name": "stdout",
     "output_type": "stream",
     "text": [
      "Isso não é um número válido. Ignorando...\n",
      "Isso não é um número válido. Ignorando...\n",
      "0\n"
     ]
    }
   ],
   "source": [
    "def calculate_average():\n",
    "    total = 0\n",
    "    count = 0\n",
    "    while True:\n",
    "        num = input(\"Digite um número, ou 'q' para sair: \")\n",
    "        if num.lower() == 'q':\n",
    "            break\n",
    "        try:\n",
    "            total += float(num)\n",
    "            count += 1\n",
    "        except ValueError:\n",
    "            print(\"Isso não é um número válido. Ignorando...\")\n",
    "    return total / count if count > 0 else 0\n",
    "\n",
    "# Teste a função\n",
    "print(calculate_average())\n"
   ]
  },
  {
   "attachments": {},
   "cell_type": "markdown",
   "metadata": {},
   "source": [
    "## Exercício:\n",
    "### Escreva uma função que solicite ao usuário que insira uma série de números inteiros, um de cada vez, até que o usuário insira 'q' para sair. A função deve então retornar o número par mais alto inserido. Se o usuário inserir algo que não seja um número inteiro, a função deve tratar a exceção e ignorar a entrada."
   ]
  },
  {
   "cell_type": "code",
   "execution_count": 8,
   "metadata": {},
   "outputs": [
    {
     "name": "stdout",
     "output_type": "stream",
     "text": [
      "None\n"
     ]
    }
   ],
   "source": [
    "def highest_even():\n",
    "    highest = None\n",
    "    while True:\n",
    "        num = input(\"Digite um número inteiro, ou 'q' para sair: \")\n",
    "        if num.lower() == 'q':\n",
    "            break\n",
    "        try:\n",
    "            num = float(num)\n",
    "            if num % 2 == 0 and (highest is None or num > highest):\n",
    "                highest = num\n",
    "        except ValueError:\n",
    "            print(\"Isso não é um número inteiro válido. Ignorando...\")\n",
    "    return highest\n",
    "\n",
    "# Teste a função\n",
    "print(highest_even())\n"
   ]
  },
  {
   "attachments": {},
   "cell_type": "markdown",
   "metadata": {},
   "source": [
    "## Exercício:\n",
    "\n",
    "Escreva uma função que solicite ao usuário que insira um número. A função deve então retornar o quadrado desse número. Se o usuário inserir algo que não seja um número, a função deve tratar a exceção e imprimir uma mensagem de erro."
   ]
  },
  {
   "cell_type": "code",
   "execution_count": 2,
   "metadata": {},
   "outputs": [
    {
     "name": "stdout",
     "output_type": "stream",
     "text": [
      "25.0\n"
     ]
    }
   ],
   "source": [
    "def square_number():\n",
    "    while True:\n",
    "        num = input(\"Digite um número: \")\n",
    "        try:\n",
    "            num = float(num)\n",
    "            return num ** 2\n",
    "        except ValueError:\n",
    "            print(\"Isso não é um número válido. Tente novamente.\")\n",
    "\n",
    "# Teste a função\n",
    "print(square_number())\n"
   ]
  },
  {
   "attachments": {},
   "cell_type": "markdown",
   "metadata": {},
   "source": [
    "## Exercício:\n",
    "\n",
    "Vamos criar um programa que solicita ao usuário que insira uma série de preços de produtos, um de cada vez, até que o usuário insira 'q' para sair. O programa deve então retornar o preço total dos produtos. Se o usuário inserir algo que não seja um número, o programa deve tratar a exceção e ignorar a entrada."
   ]
  },
  {
   "cell_type": "code",
   "execution_count": 3,
   "metadata": {},
   "outputs": [
    {
     "name": "stdout",
     "output_type": "stream",
     "text": [
      "O preço total dos produtos é: 75.0\n"
     ]
    }
   ],
   "source": [
    "def calculate_total_price():\n",
    "    total = 0.0\n",
    "    while True:\n",
    "        price = input(\"Digite o preço do produto, ou 'q' para sair: \")\n",
    "        if price.lower() == 'q':\n",
    "            break\n",
    "        try:\n",
    "            price = float(price)\n",
    "            if price >= 0:\n",
    "                total += price\n",
    "            else:\n",
    "                print(\"Preço não pode ser negativo. Ignorando...\")\n",
    "        except ValueError:\n",
    "            print(\"Isso não é um número válido. Ignorando...\")\n",
    "    return total\n",
    "\n",
    "# Teste a função\n",
    "print(f\"O preço total dos produtos é: {calculate_total_price()}\")\n"
   ]
  },
  {
   "attachments": {},
   "cell_type": "markdown",
   "metadata": {},
   "source": [
    "# Desafio\n",
    "## Vocês já fizeram esse exercício, porém, agora vocês devem tratar todos os erros que conseguirem imaginar, dessa forma, caso algo saia errado saberemos o motivo exato\n",
    "\n",
    "Crie um programa que permita ao usuário gerenciar uma lista de tarefas. O programa deve oferecer as seguintes opções:\n",
    "\n",
    "Adicionar uma tarefa.\n",
    "\n",
    "Remover uma tarefa.\n",
    "\n",
    "Visualizar todas as tarefas. enumerate()\n",
    "\n",
    "Sair do programa.\n",
    "\n",
    "Cada tarefa deve ser uma string e todas as tarefas devem ser armazenadas em uma lista. O programa deve continuar executando e aceitando entradas do usuário até que ele escolha a opção de sair. "
   ]
  },
  {
   "cell_type": "code",
   "execution_count": null,
   "metadata": {},
   "outputs": [],
   "source": [
    "# Inicializamos uma lista vazia para armazenar as tarefas\n",
    "tarefas = []\n",
    "\n",
    "# O programa continuará executando até que o usuário escolha a opção de sair\n",
    "while True:\n",
    "    try:\n",
    "        print(\"\\nGerenciador de Tarefas\")\n",
    "        print(\"1. Adicionar uma tarefa\")\n",
    "        print(\"2. Remover uma tarefa\")\n",
    "        print(\"3. Visualizar todas as tarefas\")\n",
    "        print(\"4. Sair\")\n",
    "        \n",
    "        # Solicitamos ao usuário que escolha uma opção\n",
    "        opcao = int(input(\"Escolha uma opção: \"))\n",
    "        \n",
    "        # Se o usuário escolher a opção 1, pedimos que ele digite a tarefa que deseja adicionar\n",
    "        if opcao == 1:\n",
    "            tarefa = input(\"Digite a tarefa que deseja adicionar: \")\n",
    "            tarefas.append(tarefa)  # Adicionamos a tarefa à lista\n",
    "            print(f\"Tarefa '{tarefa}' adicionada com sucesso!\")\n",
    "        \n",
    "        # Se o usuário escolher a opção 2, pedimos que ele digite a tarefa que deseja remover\n",
    "        elif opcao == 2:\n",
    "            tarefa = input(\"Digite a tarefa que deseja remover: \")\n",
    "            # Verificamos se a tarefa está na lista\n",
    "            if tarefa in tarefas:\n",
    "                tarefas.remove(tarefa)  # Removemos a tarefa da lista\n",
    "                print(f\"Tarefa '{tarefa}' removida com sucesso!\")\n",
    "            else:\n",
    "                print(\"Essa tarefa não existe na lista.\")\n",
    "        \n",
    "        # Se o usuário escolher a opção 3, mostramos todas as tarefas na lista\n",
    "        elif opcao == 3:\n",
    "            print(\"\\nTarefas:\")\n",
    "            for i, tarefa in enumerate(tarefas, start=1):\n",
    "                print(f\"{i}. {tarefa}\")\n",
    "        \n",
    "        # Se o usuário escolher a opção 4, terminamos o laço e saímos do programa\n",
    "        elif opcao == 4:\n",
    "            print(\"Saindo do programa...\")\n",
    "            break\n",
    "        \n",
    "        # Se o usuário escolher uma opção que não seja 1, 2, 3 ou 4, informamos que a opção é inválida\n",
    "        else:\n",
    "            print(\"Opção inválida. Por favor, escolha uma opção entre 1 e 4.\")\n",
    "            \n",
    "    except ValueError:\n",
    "        print(\"Erro! Você deve inserir um número inteiro.\")\n",
    "        \n",
    "    except ZeroDivisionError:\n",
    "        print(\"Erro! Divisão por zero não é permitida.\")\n",
    "        \n",
    "    except NameError:\n",
    "        print(\"Erro! Variável não definida.\")\n",
    "        \n",
    "    except TypeError:\n",
    "        print(\"Erro! Tipo de dado incompatível.\")\n",
    "        \n",
    "    except SyntaxError:\n",
    "        print(\"Erro! Sintaxe do código está incorreta.\")\n"
   ]
  },
  {
   "cell_type": "markdown",
   "metadata": {},
   "source": [
    "## Tuplas\n",
    "\n",
    "As tuplas são usadas em Python para armazenar múltiplos itens em uma única variável. Elas são imutáveis, o que significa que não podem ser alteradas após sua criação. Isso é útil em situações em que você quer que os dados permaneçam constantes e não sejam alterados acidentalmente."
   ]
  },
  {
   "cell_type": "markdown",
   "metadata": {},
   "source": [
    "a função get_student_info retorna uma tupla contendo três valores. Quando chamamos a função, podemos armazenar o resultado em uma única variável, que será uma tupla.\n"
   ]
  },
  {
   "cell_type": "code",
   "execution_count": 1,
   "metadata": {},
   "outputs": [
    {
     "name": "stdout",
     "output_type": "stream",
     "text": [
      "('Alice', 20, 'A')\n"
     ]
    }
   ],
   "source": [
    "def get_student_info():\n",
    "    name = \"Alice\"\n",
    "    age = 20\n",
    "\n",
    "    grade = \"A\"\n",
    "    return name, age, grade\n",
    "\n",
    "info = get_student_info()\n",
    "print(info)  # Saída: ('Alice', 20, 'A')\n"
   ]
  },
  {
   "cell_type": "markdown",
   "metadata": {},
   "source": [
    "## Exemplo de Tupla: Coordenadas Geográficas\n",
    "\n",
    "As tuplas são comumente usadas para representar um conjunto de dados que pertencem juntos, como as coordenadas geográficas de um ponto no espaço 2D (latitude e longitude)."
   ]
  },
  {
   "cell_type": "markdown",
   "metadata": {},
   "source": [
    "Neste exemplo, a tupla local representa as coordenadas geográficas de um local. Como as coordenadas de um local não mudam, faz sentido usar uma tupla para representá-las."
   ]
  },
  {
   "cell_type": "code",
   "execution_count": null,
   "metadata": {},
   "outputs": [],
   "source": [
    "# Definindo as coordenadas de um local\n",
    "local = (40.741895, -73.989308)\n",
    "\n",
    "# Acessando os elementos da tupla\n",
    "latitude = local[0]\n",
    "longitude = local[1]\n",
    "\n",
    "print(f\"A latitude é {latitude} e a longitude é {longitude}\")\n",
    "\n",
    "\n",
    "# Muito utilizado no Geopy e GEE!\n",
    "# existe uma área inteira voltada para essa parte de geolocation"
   ]
  },
  {
   "cell_type": "markdown",
   "metadata": {},
   "source": [
    "## Dicionários\n",
    "\n",
    "Os dicionários em Python são usados para armazenar dados em pares chave-valor. Eles são úteis quando você precisa associar valores a chaves específicas."
   ]
  },
  {
   "cell_type": "markdown",
   "metadata": {},
   "source": [
    "criamos um dicionário para armazenar informações sobre um estudante. Cada pedaço de informação é associado a uma chave (por exemplo, \"name\", \"age\", \"grade\"). Podemos então acessar as informações usando essas chaves."
   ]
  },
  {
   "cell_type": "code",
   "execution_count": null,
   "metadata": {},
   "outputs": [],
   "source": [
    "student = {\n",
    "    \"name\": \"Alice\",\n",
    "    \"age\": 20,\n",
    "    \"grade\": \"A\"\n",
    "}\n",
    "\n",
    "print(student[\"name\"])  # Saída: Alice\n",
    "print(student[\"age\"])  # Saída: 20\n",
    "print(student[\"grade\"])  # Saída: A\n"
   ]
  },
  {
   "cell_type": "markdown",
   "metadata": {},
   "source": [
    "## Exemplo de Dicionário: Contador de Frequência de Palavras\n",
    "\n",
    "Os dicionários são frequentemente usados para armazenar a frequência de ocorrência de diferentes elementos, como a frequência de palavras em um texto."
   ]
  },
  {
   "cell_type": "markdown",
   "metadata": {},
   "source": [
    "o dicionário frequencia é usado para contar a frequência de cada palavra no texto. As chaves do dicionário são as palavras, e os valores são a frequência de cada palavra. Isso mostra como os dicionários podem ser usados para mapear um item (a palavra) a outro item (sua frequência)."
   ]
  },
  {
   "cell_type": "code",
   "execution_count": null,
   "metadata": {},
   "outputs": [],
   "source": [
    "# Definindo um texto\n",
    "texto = \"gato cachorro gato gato passaro cachorro gato\"\n",
    "\n",
    "# Criando um dicionário para contar a frequência de cada palavra\n",
    "frequencia = {}\n",
    "\n",
    "# Dividindo o texto em palavras e contando a frequência de cada uma\n",
    "for palavra in texto.split():\n",
    "    if palavra in frequencia:\n",
    "        frequencia[palavra] += 1\n",
    "    else:\n",
    "        frequencia[palavra] = 1\n",
    "\n",
    "print(frequencia)\n"
   ]
  },
  {
   "cell_type": "markdown",
   "metadata": {},
   "source": [
    "# Exercicio Tupla\n",
    "Vamos criar um programa que solicita ao usuário que insira as coordenadas (latitude e longitude) de dois locais e calcula a distância entre eles. Para simplificar, vamos considerar a Terra como um círculo perfeito e usar a fórmula da distância em um círculo:\n",
    "\n",
    "distância = raio_terra * |longitude2 - longitude1|\n",
    "\n",
    "Assuma que o raio da Terra é 6371 km."
   ]
  },
  {
   "cell_type": "code",
   "execution_count": null,
   "metadata": {},
   "outputs": [],
   "source": [
    "import math\n",
    "\n",
    "# Solicite ao usuário que insira as coordenadas dos dois locais\n",
    "local1 = tuple(map(float, input(\"Digite a latitude e a longitude do primeiro local (separadas por espaço): \").split()))\n",
    "local2 = tuple(map(float, input(\"Digite a latitude e a longitude do segundo local (separadas por espaço): \").split()))\n",
    "\n",
    "# Calcule a distância entre os dois locais\n",
    "raio_terra = 6371  # em km\n",
    "distancia = raio_terra * math.fabs(local2[1] - local1[1])\n",
    "\n",
    "print(f\"A distância entre os dois locais é de {distancia} km.\")\n",
    "\n",
    "\n",
    "# A função math.fabs() é uma função da biblioteca math do Python que retorna o\n",
    "# valor absoluto (ou a magnitude) de um número. O valor absoluto de um número é\n",
    "# a sua distância até zero no eixo dos números reais, sem considerar a direção.\n",
    "# Em outras palavras, math.fabs(x) retorna x se x é positivo ou zero, e -x se x é negativo."
   ]
  },
  {
   "cell_type": "markdown",
   "metadata": {},
   "source": [
    "## Exercicio Dicionario\n",
    "\n",
    "Vamos criar um programa que solicita ao usuário que insira uma série de palavras, uma de cada vez, até que o usuário insira 'q' para sair. O programa deve então retornar a frequência de cada palavra."
   ]
  },
  {
   "cell_type": "code",
   "execution_count": null,
   "metadata": {},
   "outputs": [],
   "source": [
    "# Inicialize um dicionário vazio para armazenar a frequência das palavras\n",
    "frequencia = {}\n",
    "\n",
    "# Continue solicitando palavras ao usuário até que ele insira 'q'\n",
    "while True:\n",
    "    palavra = input(\"Digite uma palavra, ou 'q' para sair: \")\n",
    "    if palavra.lower() == 'q':\n",
    "        break\n",
    "    if palavra in frequencia:\n",
    "        frequencia[palavra] += 1\n",
    "    else:\n",
    "        frequencia[palavra] = 1\n",
    "\n",
    "# Imprima a frequência de cada palavra\n",
    "for palavra, freq in frequencia.items():\n",
    "    print(f\"A palavra '{palavra}' aparece {freq} vez(es).\")\n"
   ]
  },
  {
   "cell_type": "markdown",
   "metadata": {},
   "source": [
    "# Programação Orientada a Objeto (POO/ OOP)"
   ]
  },
  {
   "cell_type": "markdown",
   "metadata": {},
   "source": [
    "* Classe:\n",
    "\n",
    "Uma classe é como um modelo ou um blueprint para criar objetos. Uma classe define um conjunto de atributos que caracterizarão qualquer objeto que seja moldado a partir da classe. Por exemplo, você pode ter uma classe chamada \"Carro\", que define atributos como \"cor\", \"marca\", \"modelo\" e \"ano\". A classe também define o que esses carros podem fazer, com métodos como \"acelerar\", \"frear\", \"virar\", etc.\n",
    "\n",
    "* Objeto:\n",
    "\n",
    "Um objeto é uma instância de uma classe. Ele tem um estado e um comportamento. O estado é definido pelos valores dos atributos e o comportamento é definido pelos métodos. Por exemplo, você pode criar um objeto da classe \"Carro\" que tem a cor vermelha, a marca Ferrari, o modelo F40 e o ano 1987.\n",
    "\n",
    "* Atributos:\n",
    "\n",
    "Atributos são as características de um objeto, também conhecidas como propriedades. Eles definem o estado do objeto. Por exemplo, um objeto da classe \"Carro\" pode ter atributos como \"cor\", \"marca\", \"modelo\" e \"ano\".\n",
    "\n",
    "* Métodos:\n",
    "\n",
    "Métodos são as ações que um objeto pode realizar. Eles definem o comportamento do objeto. Por exemplo, um objeto da classe \"Carro\" pode ter métodos como \"acelerar\", \"frear\", \"virar\", etc."
   ]
  },
  {
   "cell_type": "markdown",
   "metadata": {},
   "source": [
    "## Criação de Classes e Objetos"
   ]
  },
  {
   "cell_type": "markdown",
   "metadata": {},
   "source": [
    "Para criar uma classe em Python, usamos a palavra-chave class seguida pelo nome da classe."
   ]
  },
  {
   "cell_type": "code",
   "execution_count": null,
   "metadata": {},
   "outputs": [],
   "source": [
    "class Carro:\n",
    "    pass\n"
   ]
  },
  {
   "cell_type": "markdown",
   "metadata": {},
   "source": [
    "Para criar um objeto, chamamos o nome da classe como se fosse uma função. Por exemplo, meu_carro = Carro() cria um novo objeto da classe Carro."
   ]
  },
  {
   "cell_type": "markdown",
   "metadata": {},
   "source": [
    "## Atributos de instância vs atributos de classe"
   ]
  },
  {
   "cell_type": "markdown",
   "metadata": {},
   "source": [
    "* Atributos de instância são atributos que pertencem a uma instância específica de uma classe. Cada objeto tem seus próprios atributos de instância. Por exemplo, em uma classe Carro, cada carro tem sua própria cor, que é um atributo de instância.\n",
    "\n",
    "* Atributos de classe são atributos que pertencem à classe como um todo, e não a uma instância específica. Todos os objetos da classe compartilham os mesmos atributos de classe. Por exemplo, se todos os carros que estamos modelando são da marca Ferrari, então a marca é um atributo de classe."
   ]
  },
  {
   "cell_type": "markdown",
   "metadata": {},
   "source": [
    "## Métodos de instância, métodos de classe (@classmethod) e métodos estáticos (@staticmethod)"
   ]
  },
  {
   "cell_type": "markdown",
   "metadata": {},
   "source": [
    "* Métodos de instância são os métodos que operam nos atributos de instância de um objeto. Eles têm acesso a todos os atributos e métodos da classe e podem modificar o estado do objeto. Eles precisam de uma instância da classe para serem chamados.\n",
    "\n",
    "* Métodos de classe são métodos que operam nos atributos de classe. Eles são definidos usando o decorador @classmethod e têm um primeiro argumento especial, geralmente chamado de cls, que se refere à classe (e não à instância). Eles não podem modificar o estado de uma instância específica da classe.\n",
    "\n",
    "* Métodos estáticos são métodos que não operam em atributos de instância ou de classe. Eles são definidos usando o decorador @staticmethod e podem ser pensados como funções normais que acontecem a residir no corpo de uma classe, porque eles fazem sentido conceitualmente lá."
   ]
  },
  {
   "cell_type": "markdown",
   "metadata": {},
   "source": [
    "## Herança: Como criar subclasses e como usar a função super\n",
    "\n",
    "* A herança é um mecanismo que permite que uma classe herde atributos e métodos de outra classe. A classe que está sendo herdada é chamada de \"classe base\" ou \"classe pai\", e a classe que herda é chamada de \"classe derivada\" ou \"classe filha\".\n",
    "\n",
    "* A função super() é usada para chamar um método da classe pai na classe filha. Isso é útil quando você quer usar o comportamento da classe pai, mas também quer adicionar algum comportamento adicional na classe filha."
   ]
  },
  {
   "cell_type": "markdown",
   "metadata": {},
   "source": [
    " ## Encapsulamento: Atributos e métodos privados e protegidos "
   ]
  },
  {
   "cell_type": "markdown",
   "metadata": {},
   "source": [
    "* O encapsulamento é o mecanismo de ocultar os detalhes internos de uma classe e permitir que os atributos e métodos sejam acessados apenas através de métodos públicos. Isso é feito para prevenir que o estado do objeto seja alterado de maneira inadequada.\n",
    "\n",
    "* Em Python, não há uma maneira estrita de definir atributos e métodos privados, mas é uma convenção preceder o nome de um atributo ou método que deve ser tratado como privado com um único sublinhado _.\n",
    "\n",
    "* Atributos e métodos protegidos são aqueles que só devem ser acessados dentro da classe e suas subclasses. Eles são precedidos por dois sublinhados __."
   ]
  },
  {
   "cell_type": "markdown",
   "metadata": {},
   "source": [
    "# ━━━━━━━━━━━━━━❮◆❯━━━━━━━━━━━━━━"
   ]
  },
  {
   "cell_type": "markdown",
   "metadata": {},
   "source": [
    "## Seu Primeiro Projeto Com Sentido\n",
    "\n",
    "#### Criar um programa que envie uma mensagem"
   ]
  },
  {
   "cell_type": "code",
   "execution_count": 7,
   "metadata": {},
   "outputs": [
    {
     "ename": "NameError",
     "evalue": "name 'session' is not defined",
     "output_type": "error",
     "traceback": [
      "\u001b[1;31m---------------------------------------------------------------------------\u001b[0m",
      "\u001b[1;31mNameError\u001b[0m                                 Traceback (most recent call last)",
      "Cell \u001b[1;32mIn[7], line 1\u001b[0m\n\u001b[1;32m----> 1\u001b[0m session\u001b[39m.\u001b[39mlogin(sender, password)\n",
      "\u001b[1;31mNameError\u001b[0m: name 'session' is not defined"
     ]
    }
   ],
   "source": [
    "# session.login(sender, password)\n",
    "# https://myaccount.google.com/u/5/apppasswords?utm_source=google-account&utm_medium=myaccountsecurity&utm_campaign=tsv-settings&rapt=AEjHL4OmhBxmnub0b4X8xmOkfyEK8yk3OxDzsSQRbwvn3DKjOsv-rojt79egBlxP2Gai0MUNP4NnBMvMzZvYSBkbla1C7XMzWg"
   ]
  },
  {
   "cell_type": "code",
   "execution_count": 4,
   "metadata": {},
   "outputs": [],
   "source": [
    "#━━━━━━━━━❮Bibliotecas❯━━━━━━━━━\n",
    "import re\n",
    "import time\n",
    "import smtplib\n",
    "from email.mime.multipart import MIMEMultipart\n",
    "from email.mime.text import MIMEText\n",
    "#━━━━━━━━━━━━━━❮◆❯━━━━━━━━━━━━━━\n"
   ]
  },
  {
   "cell_type": "markdown",
   "metadata": {},
   "source": [
    "# Explicação das libs\n",
    "\n",
    "* re: Biblioteca para trabalhar com expressões regulares. Usada para validar o formato do e-mail.\n",
    "* time: Biblioteca para manipular o tempo. Usada para criar uma pausa no código.\n",
    "* smtplib: Biblioteca para enviar e-mails usando o protocolo SMTP.\n",
    "* MIMEMultipart e MIMEText: Usados para criar a estrutura do e-mail (corpo, anexos, etc.)."
   ]
  },
  {
   "cell_type": "code",
   "execution_count": 5,
   "metadata": {},
   "outputs": [
    {
     "name": "stdout",
     "output_type": "stream",
     "text": [
      "\n",
      "Email Invalido\n",
      "maj72@terra.com.br\n"
     ]
    }
   ],
   "source": [
    "#━━━━━━━━━❮Verificação de email❯━━━━━━━━━\n",
    "regex = '^[a-z0-9]+[\\._]?[a-z0-9]+[@]\\w+[.]\\w{2,3}$'\n",
    "\n",
    "while True:\n",
    "    email = input('Digite o email do remetente: ')\n",
    "    print('')\n",
    "    \n",
    "    cont = input('O email está correto? [S/N]').upper()\n",
    "    if cont == 'S':\n",
    "        break\n",
    "\n",
    "def check(email):  \n",
    "    if(re.search(regex,email)):  \n",
    "        print(\"Email Verificado com Sucesso\")  \n",
    "    else:  \n",
    "        print(\"Email Invalido\")   \n",
    "\n",
    "check(email)\n",
    "print(email)\n",
    "\n",
    "# Exemplo de variavel \n",
    "relt = input('Digite o nome do relatorio')\n"
   ]
  },
  {
   "cell_type": "markdown",
   "metadata": {},
   "source": [
    "# Regex\n",
    "\n",
    "* Define uma expressão regular (regex) que valida o formato padrão de um e-mail. [    ^[a-z0-9]+[\\._]?[a-z0-9]+[@]\\w+[.]\\w{2,3}$    ]\n",
    "\n",
    "* Define uma função check que verifica se o e-mail inserido corresponde ao formato válido usando a expressão regular."
   ]
  },
  {
   "cell_type": "code",
   "execution_count": 2,
   "metadata": {},
   "outputs": [],
   "source": [
    "\n",
    "#━━━━━━━━❮envio do Email❯━━━━━━━━━\n",
    "def enviar_email():\n",
    "    time.sleep(1)\n",
    "    body = f\"\"\"\n",
    "    Segue o {relt}\n",
    "    \n",
    "    A SettLink agradece a preferência, conte conosco sobre qualquer duvida!\n",
    "    \"\"\"\n",
    "\n",
    "    sender = 'settlinksp@gmail.com'\n",
    "    password = 'jmolibocyyhmgqxv'\n",
    "    receiver = email\n",
    "\n",
    "    message = MIMEMultipart()\n",
    "    message['From'] = sender\n",
    "    message['To'] = receiver\n",
    "    message['Subject'] = relt\n",
    "\n",
    "    message.attach(MIMEText(body, 'plain'))\n",
    "\n",
    "    session = smtplib.SMTP('smtp.gmail.com', 587)\n",
    "    session.starttls()\n",
    "    session.login(sender, password)\n",
    "\n",
    "    text = message.as_string()\n",
    "    session.sendmail(sender, receiver, text)\n",
    "    session.quit()\n",
    "    print('200')\n",
    "#━━━━━━━━━━━━━━━❮◆❯━━━━━━━━━━━━━━━━"
   ]
  },
  {
   "cell_type": "markdown",
   "metadata": {},
   "source": [
    "# Enviando Email\n",
    "\n",
    "* Define a função enviar_email que será responsável pelo envio do e-mail.\n",
    "* Cria uma pausa de 1 segundo usando time.sleep(1).\n",
    "* Define o corpo do e-mail (body).\n",
    "\n",
    "# Conexão com a lib\n",
    "\n",
    "* Estabelece uma sessão SMTP com o servidor do Gmail.\n",
    "* Inicia uma conexão segura com o servidor usando starttls().\n",
    "* Faz login no servidor usando as credenciais fornecidas.\n",
    "* Converte a mensagem para uma string e envia o e-mail.\n",
    "* Encerra a sessão SMTP e imprime '200' para indicar sucesso."
   ]
  },
  {
   "cell_type": "code",
   "execution_count": 3,
   "metadata": {},
   "outputs": [
    {
     "ename": "NameError",
     "evalue": "name 'time' is not defined",
     "output_type": "error",
     "traceback": [
      "\u001b[1;31m---------------------------------------------------------------------------\u001b[0m",
      "\u001b[1;31mNameError\u001b[0m                                 Traceback (most recent call last)",
      "Cell \u001b[1;32mIn[3], line 1\u001b[0m\n\u001b[1;32m----> 1\u001b[0m enviar_email()\n",
      "Cell \u001b[1;32mIn[2], line 3\u001b[0m, in \u001b[0;36menviar_email\u001b[1;34m()\u001b[0m\n\u001b[0;32m      2\u001b[0m \u001b[39mdef\u001b[39;00m \u001b[39menviar_email\u001b[39m():\n\u001b[1;32m----> 3\u001b[0m     time\u001b[39m.\u001b[39msleep(\u001b[39m1\u001b[39m)\n\u001b[0;32m      4\u001b[0m     body \u001b[39m=\u001b[39m \u001b[39mf\u001b[39m\u001b[39m\"\"\"\u001b[39m\n\u001b[0;32m      5\u001b[0m \u001b[39m    Segue o \u001b[39m\u001b[39m{\u001b[39;00mrelt\u001b[39m}\u001b[39;00m\n\u001b[0;32m      6\u001b[0m \u001b[39m    \u001b[39m\n\u001b[0;32m      7\u001b[0m \u001b[39m    A SettLink agradece a preferência, conte conosco sobre qualquer duvida!\u001b[39m\n\u001b[0;32m      8\u001b[0m \u001b[39m    \u001b[39m\u001b[39m\"\"\"\u001b[39m\n\u001b[0;32m     10\u001b[0m     sender \u001b[39m=\u001b[39m \u001b[39m'\u001b[39m\u001b[39msettlinksp@gmail.com\u001b[39m\u001b[39m'\u001b[39m\n",
      "\u001b[1;31mNameError\u001b[0m: name 'time' is not defined"
     ]
    }
   ],
   "source": [
    "enviar_email()"
   ]
  }
 ],
 "metadata": {
  "kernelspec": {
   "display_name": "Python 3",
   "language": "python",
   "name": "python3"
  },
  "language_info": {
   "codemirror_mode": {
    "name": "ipython",
    "version": 3
   },
   "file_extension": ".py",
   "mimetype": "text/x-python",
   "name": "python",
   "nbconvert_exporter": "python",
   "pygments_lexer": "ipython3",
   "version": "3.10.11"
  },
  "orig_nbformat": 4
 },
 "nbformat": 4,
 "nbformat_minor": 2
}

{
 "cells": [
  {
   "attachments": {},
   "cell_type": "markdown",
   "metadata": {},
   "source": [
    "# Mega Revisão"
   ]
  },
  {
   "attachments": {},
   "cell_type": "markdown",
   "metadata": {},
   "source": [
    "## String\n",
    "\n",
    "Uma string em Python é uma sequência de caracteres. Em Python, as strings são imutáveis, o que significa que uma vez definidas, elas não podem ser alteradas. As strings podem ser criadas usando aspas simples ('...') ou aspas duplas (\"...\")\n",
    "\n",
    "### Manipulação de String"
   ]
  },
  {
   "cell_type": "code",
   "execution_count": null,
   "metadata": {},
   "outputs": [],
   "source": [
    "#━━━━━━━━━━━━━━━━━━━━━━━━━━━❮◆❯━━━━━━━━━━━━━━━━━━━━━━━━━━━\n",
    "# programa que lei algo pelo teclado e mostre na tela o \n",
    "# seu tipo primitivo e todas as informações possíveis sobre ele\n",
    "#━━━━━━━━━━━━━━━━━━━━━━━━━━━❮◆❯━━━━━━━━━━━━━━━━━━━━━━━━━━━\n",
    "\n",
    "\n",
    "\n",
    "algo =input('Digite algo aqui: ') # OU algo =str(input('Digite algo aqui: '))  É A MESMA COISA\n",
    "print('')\n",
    "\n",
    "len(algo) #Retorna o comprimento (o número de caracteres) da string.\n",
    "\n",
    "\n",
    "print(algo.capitalize()) #Retorna uma cópia da string original com o primeiro caractere convertido para maiúsculo\n",
    "                            # e todos os outros caracteres convertidos para minúsculo.\n",
    "\n",
    "\n",
    "print(algo.count('a')) #Retorna o número de vezes que o caractere ou sub-string 'a' aparece na string.\n",
    "\n",
    "\n",
    "print(algo.startswith('a')) #Retorna True se a string começar com 'a', caso contrário, retorna False.\n",
    "\n",
    "\n",
    "print(algo.endswith('b')) #Retorna True se a string terminar com 'b', caso contrário, retorna False\n",
    "\n",
    "\n",
    "print(algo.isalnum()) #Retorna True se todos os caracteres na string forem alfanuméricos (ou seja, letras ou números),\n",
    "                        # caso contrário, retorna False.\n",
    "\n",
    "\n",
    "print(algo.isalpha()) #Retorna True se todos os caracteres na string forem letras, caso contrário, retorna False\n",
    "\n",
    "\n",
    "print(algo.islower()) #Retorna True se todos os caracteres alfabéticos na string forem minúsculos,\n",
    "                        # caso contrário, retorna False.\n",
    "\n",
    "\n",
    "print(algo.isupper()) #Retorna True se todos os caracteres alfabéticos na string forem maiúsculos,\n",
    "                        # caso contrário, retorna False.\n",
    "\n",
    "\n",
    "print(algo.lower()) #Retorna uma cópia da string com todos os caracteres alfabéticos convertidos para minúsculo.\n",
    "\n",
    "\n",
    "print(algo.upper()) #Retorna uma cópia da string com todos os caracteres alfabéticos convertidos para maiúsculo.\n",
    "\n",
    "\n",
    "print(algo.swapcase()) #Retorna uma cópia da string com maiúsculas convertidas para minúsculas e vice-versa.\n",
    "\n",
    "\n",
    "print(algo.title()) #Retorna uma cópia da string com o primeiro caractere de cada palavra\n",
    "                    # convertido para maiúsculo e os seguintes caracteres convertidos para minúsculo.\n",
    "\n",
    "\n",
    "print(algo.split()) #Divide a string em uma lista onde cada palavra é um item da lista.\n",
    "                    # Por padrão, qualquer espaço em branco é considerado um delimitador.\n",
    "\n",
    "\n",
    "print(algo.replace('a', 'b')) # Retorna uma cópia da string com todas as ocorrências\n",
    "                                # de 'a' substituídas por 'b'.\n",
    "\n",
    "\n",
    "print(algo.find('e')) # Retorna o índice da primeira ocorrência de 'e' na string.\n",
    "                        # Se 'e' não estiver na string, retorna -1.\n",
    "\n",
    "\n",
    "print(algo.strip()) #Retorna uma cópia da string com os caracteres de espaço em branco\n",
    "                    # iniciais e finais removidos. Se os caracteres não forem especificados,\n",
    "                    # os espaços em branco serão removidos.\n",
    "                    \n",
    "\n",
    "print(algo[0])  # Isso imprimirá o primeiro caracter da string\n"
   ]
  },
  {
   "attachments": {},
   "cell_type": "markdown",
   "metadata": {},
   "source": [
    "## Tipos de Operadores\n",
    "\n",
    "### Operadores Lógicos\n",
    "\n",
    "and --> Retorna True se ambas as condições forem verdadeiras.\n",
    "\n",
    "or --> Retorna True se pelo menos uma das condições for verdadeira. \n",
    "\n",
    "not --> Inverte o resultado, retorna False se o resultado for verdadeiro e True se o resultado for falso"
   ]
  },
  {
   "attachments": {},
   "cell_type": "markdown",
   "metadata": {},
   "source": [
    "### Exemplo and"
   ]
  },
  {
   "cell_type": "code",
   "execution_count": null,
   "metadata": {},
   "outputs": [],
   "source": [
    "x = 5\n",
    "print(x > 3 and x < 10)  # Retorna True porque 5 é maior que 3 AND 5 é menor que 10\n"
   ]
  },
  {
   "attachments": {},
   "cell_type": "markdown",
   "metadata": {},
   "source": [
    "### Exemplo or"
   ]
  },
  {
   "cell_type": "code",
   "execution_count": null,
   "metadata": {},
   "outputs": [],
   "source": [
    "x = 5\n",
    "print(x < 3 or x > 4)  # Retorna True porque uma das condições é verdadeira (5 é maior que 4)\n"
   ]
  },
  {
   "attachments": {},
   "cell_type": "markdown",
   "metadata": {},
   "source": [
    "### Exemplo not"
   ]
  },
  {
   "cell_type": "code",
   "execution_count": null,
   "metadata": {},
   "outputs": [],
   "source": [
    "x = 5\n",
    "print(not(x > 3 and x < 10))  # Retorna False porque not é usado para inverter o resultado verdadeiro da expressão lógica\n"
   ]
  },
  {
   "attachments": {},
   "cell_type": "markdown",
   "metadata": {},
   "source": [
    "### Operadores Aritméticos\n",
    "\n",
    "'+' (Adição)--> Adiciona valores de ambos os lados do operador. Por exemplo, 5 + 3 resulta em 8.\n",
    "\n",
    "'-' (Subtração)--> Subtrai o operando da direita do operando da esquerda. Por exemplo, 5 - 3 resulta em 2.\n",
    "\n",
    "'*' (Multiplicação)--> Multiplica os valores de ambos os lados do operador. Por exemplo, 5 * 3 resulta em 15.\n",
    "\n",
    "'/' (Divisão)--> Divide o operando da esquerda pelo operando da direita. Por exemplo, 10 / 2 resulta em 5.\n",
    "\n",
    "'%' (Módulo)--> Retorna o resto da divisão. Por exemplo, 10 % 3 resulta em 1 porque 1 é o resto quando 10 é dividido por 3.\n",
    "\n",
    "'**' (Exponenciação)--> Realiza a exponenciação (potência) de números. Por exemplo, 2 ** 3 resulta em 8.\n",
    "\n",
    "'//' (Divisão inteira)--> Divide o operando da esquerda pelo operando da direita e retorna o quociente inteiro da divisão. Por exemplo, 10 // 3 resulta em 3."
   ]
  },
  {
   "cell_type": "code",
   "execution_count": null,
   "metadata": {},
   "outputs": [],
   "source": [
    "x = 10\n",
    "y = 3\n",
    "\n",
    "print(x + y)  # Resultado: 13\n",
    "print(x - y)  # Resultado: 7\n",
    "print(x * y)  # Resultado: 30\n",
    "print(x / y)  # Resultado: 3.3333333333333335\n",
    "print(x % y)  # Resultado: 1\n",
    "print(x ** y) # Resultado: 1000\n",
    "print(x // y) # Resultado: 3\n"
   ]
  },
  {
   "attachments": {},
   "cell_type": "markdown",
   "metadata": {},
   "source": [
    "### Operadores Comparativos\n",
    "\n",
    "'==' (Igual a): Verifica se os valores de dois operandos são iguais. Se sim, a condição torna-se verdadeira. Por exemplo, (5 == 3) retorna False.\n",
    "\n",
    "'!=' (Diferente de)--> Verifica se os valores de dois operandos são iguais. Se os valores não forem iguais, a condição torna-se verdadeira. Por exemplo, (5 != 3) retorna True.\n",
    "\n",
    "'>' (Maior que)--> Verifica se o valor do operando esquerdo é maior que o valor do operando direito. Se sim, a condição torna-se verdadeira. Por exemplo, (5 > 3) retorna True.\n",
    "\n",
    "'<' (Menor que)--> Verifica se o valor do operando esquerdo é menor que o valor do operando direito. Se sim, a condição torna-se verdadeira. Por exemplo, (5 < 3) retorna False.\n",
    "\n",
    "'>=' (Maior que ou igual a)--> Verifica se o valor do operando esquerdo é maior ou igual ao valor do operando direito. Se sim, a condição torna-se verdadeira. Por exemplo, (5 >= 3) retorna True.\n",
    "\n",
    "'<=' (Menor que ou igual a)--> Verifica se o valor do operando esquerdo é menor ou igual ao valor do operando direito. Se sim, a condição torna-se verdadeira. Por exemplo, (5 <= 3) retorna False."
   ]
  },
  {
   "cell_type": "code",
   "execution_count": null,
   "metadata": {},
   "outputs": [],
   "source": [
    "x = 10\n",
    "y = 3\n",
    "\n",
    "print(x == y)  # Resultado: False\n",
    "print(x != y)  # Resultado: True\n",
    "print(x > y)   # Resultado: True\n",
    "print(x < y)   # Resultado: False\n",
    "print(x >= y)  # Resultado: True\n",
    "print(x <= y)  # Resultado: False\n"
   ]
  },
  {
   "attachments": {},
   "cell_type": "markdown",
   "metadata": {},
   "source": [
    "### Condicionais\n",
    "\n",
    "if --> A instrução if é usada para testar uma condição e executar um bloco de código se a condição for verdadeira.\n",
    "\n",
    "elif--> A instrução elif (else if) é usada para testar várias condições em sequência. Se a condição em uma instrução if ou elif anterior for falsa, a condição na instrução elif é testada. Se for verdadeira, o bloco de código sob a instrução elif é executado.\n",
    "\n",
    "else --> A instrução else é usada para especificar um bloco de código a ser executado se todas as condições em instruções if e elif anteriores forem falsas. "
   ]
  },
  {
   "cell_type": "code",
   "execution_count": null,
   "metadata": {},
   "outputs": [],
   "source": [
    "x = 19\n",
    "\n",
    "if x > 15:\n",
    "    print(\"x é maior que 15\")\n",
    "    if x <20:\n",
    "        print('x é menor que 20')\n",
    "elif x > 20:\n",
    "    print(\"x é maior que 20\")\n",
    "else:\n",
    "    print(\"x é menor ou igual a 15\")\n"
   ]
  },
  {
   "attachments": {},
   "cell_type": "markdown",
   "metadata": {},
   "source": [
    "### Listas\n",
    "\n",
    "Criação --> Uma lista é uma coleção ordenada e mutável de itens. Os itens são separados por vírgulas e envolvidos em colchetes []\n",
    "\n",
    "Acesso a itens --> Você pode acessar um item em uma lista referindo-se ao seu índice. Os índices em Python começam em 0\n",
    "\n",
    "Alteração de itens --> Como as listas são mutáveis, você pode alterar um item em uma lista referindo-se ao seu índice.\n",
    "\n",
    "Adição de itens --> Você pode adicionar um item ao final de uma lista usando o método append(). Para adicionar um item em uma posição específica, use o método insert()\n",
    "\n",
    "Remoção de itens --> Você pode remover um item de uma lista usando o método remove(), que remove a primeira ocorrência do item. Para remover um item em uma posição específica, use o método pop(). Se pop() for chamado sem um índice, ele remove e retorna o último item na lista\n",
    "\n",
    "Tamanho da lista --> Você pode obter o número de itens em uma lista usando a função len()"
   ]
  },
  {
   "attachments": {},
   "cell_type": "markdown",
   "metadata": {},
   "source": [
    "### Exemplo de Criação"
   ]
  },
  {
   "cell_type": "code",
   "execution_count": null,
   "metadata": {},
   "outputs": [],
   "source": [
    "lista = [1, 2, 3, 4, 5]\n",
    "lista[0] = 10\n",
    "print(lista)  # Resultado: [10, 2, 3, 4, 5]\n"
   ]
  },
  {
   "attachments": {},
   "cell_type": "markdown",
   "metadata": {},
   "source": [
    "### Exemplo de Acesso"
   ]
  },
  {
   "cell_type": "code",
   "execution_count": null,
   "metadata": {},
   "outputs": [],
   "source": [
    "lista = [1, 2, 3, 4, 5]\n",
    "print(lista[0])  # Resultado: 1\n"
   ]
  },
  {
   "attachments": {},
   "cell_type": "markdown",
   "metadata": {},
   "source": [
    "### Exemplo de Aleteração"
   ]
  },
  {
   "cell_type": "code",
   "execution_count": null,
   "metadata": {},
   "outputs": [],
   "source": [
    "lista = [1, 2, 3, 4, 5]\n",
    "lista[0] = 10\n",
    "print(lista)  # Resultado: [10, 2, 3, 4, 5]\n"
   ]
  },
  {
   "attachments": {},
   "cell_type": "markdown",
   "metadata": {},
   "source": [
    "### Exemplo de Adição"
   ]
  },
  {
   "cell_type": "code",
   "execution_count": null,
   "metadata": {},
   "outputs": [],
   "source": [
    "lista = [1, 2, 3, 4, 5]\n",
    "lista.append(6)\n",
    "print(lista)  # Resultado: [1, 2, 3, 4, 5, 6]\n",
    "lista.insert(0, 0)\n",
    "print(lista)  # Resultado: [0, 1, 2, 3, 4, 5, 6]\n"
   ]
  },
  {
   "attachments": {},
   "cell_type": "markdown",
   "metadata": {},
   "source": [
    "### Exemplo de Remoção"
   ]
  },
  {
   "cell_type": "code",
   "execution_count": null,
   "metadata": {},
   "outputs": [],
   "source": [
    "lista = [1, 2, 3, 4, 5]\n",
    "lista.remove(1)\n",
    "print(lista)  # Resultado: [2, 3, 4, 5]\n",
    "exemplo =lista.pop(0)\n",
    "print(lista)  # Resultado: [3, 4, 5]\n"
   ]
  },
  {
   "attachments": {},
   "cell_type": "markdown",
   "metadata": {},
   "source": [
    "### Tamanho da Lista"
   ]
  },
  {
   "cell_type": "code",
   "execution_count": null,
   "metadata": {},
   "outputs": [],
   "source": [
    "lista = [1, 2, 3, 4, 5]\n",
    "print(len(lista))  # Resultado: 5\n"
   ]
  },
  {
   "attachments": {},
   "cell_type": "markdown",
   "metadata": {},
   "source": [
    "### Laço de Repetição While\n",
    "\n",
    "Estrutura básica --> Um laço while executa um bloco de código repetidamente enquanto uma condição é verdadeira\n",
    "\n",
    "Controle de fluxo --> Você pode usar as instruções break e continue para alterar o fluxo de controle em um laço while. A instrução break termina o laço imediatamente e a execução do programa continua após o laço. A instrução continue termina a iteração atual do laço e a execução do laço continua com a próxima iteração\n",
    "\n",
    "Laço while infinito --> Se a condição em um laço while nunca se tornar falsa, o laço continuará indefinidamente, criando um laço infinito. Isso geralmente é indesejável, pois pode fazer com que o programa trave. Você deve sempre garantir que algo dentro do laço cause a condição a se tornar falsa em algum momento para que o laço possa terminar."
   ]
  },
  {
   "attachments": {},
   "cell_type": "markdown",
   "metadata": {},
   "source": [
    "### Exemplo de Estrutura Básica"
   ]
  },
  {
   "cell_type": "code",
   "execution_count": null,
   "metadata": {},
   "outputs": [],
   "source": [
    "i = 1\n",
    "while i <= 5:\n",
    "    print(i)\n",
    "    i += 1\n",
    "\n"
   ]
  },
  {
   "attachments": {},
   "cell_type": "markdown",
   "metadata": {},
   "source": [
    "### Exemplo de Controle de Fluxo"
   ]
  },
  {
   "cell_type": "code",
   "execution_count": null,
   "metadata": {},
   "outputs": [],
   "source": [
    "i = 1\n",
    "while i <= 5:\n",
    "    if i == 3:\n",
    "        break\n",
    "    print(i)\n",
    "    i += 1\n"
   ]
  },
  {
   "attachments": {},
   "cell_type": "markdown",
   "metadata": {},
   "source": [
    "### Exemplo de while Infinito"
   ]
  },
  {
   "cell_type": "code",
   "execution_count": null,
   "metadata": {},
   "outputs": [],
   "source": [
    "while True:\n",
    "    resposta = input(\"Digite 'sair' para terminar o programa: \")\n",
    "    if resposta.lower() == 'sair':\n",
    "        break\n"
   ]
  },
  {
   "attachments": {},
   "cell_type": "markdown",
   "metadata": {},
   "source": [
    "### laço de repetição for\n",
    "\n",
    "Estrutura básica --> Um laço for é usado para iterar sobre uma sequência (que pode ser uma lista, uma tupla, um dicionário, um conjunto ou uma string)\n",
    "\n",
    "Função range() --> A função range() é frequentemente usada em laços for para gerar uma sequência de números.\n",
    "\n",
    "Controle de fluxo --> Assim como com laços while, você pode usar as instruções break e continue para alterar o fluxo de controle em um laço for. A instrução break termina o laço imediatamente e a execução do programa continua após o laço. A instrução continue termina a iteração atual do laço e a execução do laço continua com a próxima iteração."
   ]
  },
  {
   "attachments": {},
   "cell_type": "markdown",
   "metadata": {},
   "source": [
    "### Exemplo de Estrutura Básica"
   ]
  },
  {
   "cell_type": "code",
   "execution_count": null,
   "metadata": {},
   "outputs": [],
   "source": [
    "for letra in \"Python\":\n",
    "    print(letra)\n"
   ]
  },
  {
   "attachments": {},
   "cell_type": "markdown",
   "metadata": {},
   "source": [
    "### Exemplo de Função range()"
   ]
  },
  {
   "cell_type": "code",
   "execution_count": null,
   "metadata": {},
   "outputs": [],
   "source": [
    "for i in range(5):\n",
    "    print(i)\n"
   ]
  },
  {
   "attachments": {},
   "cell_type": "markdown",
   "metadata": {},
   "source": [
    "### Exemplo de Controle de Fluxo"
   ]
  },
  {
   "cell_type": "code",
   "execution_count": null,
   "metadata": {},
   "outputs": [],
   "source": [
    "for i in range(5):\n",
    "    if i == 3:\n",
    "        break\n",
    "    print(i)\n"
   ]
  },
  {
   "attachments": {},
   "cell_type": "markdown",
   "metadata": {},
   "source": [
    "# Desafio Geral"
   ]
  },
  {
   "attachments": {},
   "cell_type": "markdown",
   "metadata": {},
   "source": [
    "Crie um programa que permita ao usuário gerenciar uma lista de tarefas. O programa deve oferecer as seguintes opções:\n",
    "\n",
    "Adicionar uma tarefa.\n",
    "\n",
    "Remover uma tarefa.\n",
    "\n",
    "Visualizar todas as tarefas. enumerate()\n",
    "\n",
    "Sair do programa.\n",
    "\n",
    "Cada tarefa deve ser uma string e todas as tarefas devem ser armazenadas em uma lista. O programa deve continuar executando e aceitando entradas do usuário até que ele escolha a opção de sair."
   ]
  },
  {
   "cell_type": "code",
   "execution_count": null,
   "metadata": {},
   "outputs": [],
   "source": [
    "# Inicializamos uma lista vazia para armazenar as tarefas\n",
    "tarefas = []\n",
    "\n",
    "# O programa continuará executando até que o usuário escolha a opção de sair\n",
    "while True:\n",
    "    print(\"\\nGerenciador de Tarefas\")\n",
    "    print(\"1. Adicionar uma tarefa\")\n",
    "    print(\"2. Remover uma tarefa\")\n",
    "    print(\"3. Visualizar todas as tarefas\")\n",
    "    print(\"4. Sair\")\n",
    "    \n",
    "    # Solicitamos ao usuário que escolha uma opção\n",
    "    opcao = int(input(\"Escolha uma opção: \"))\n",
    "    \n",
    "    # Se o usuário escolher a opção 1, pedimos que ele digite a tarefa que deseja adicionar\n",
    "    if opcao == 1:\n",
    "        tarefa = input(\"Digite a tarefa que deseja adicionar: \")\n",
    "        tarefas.append(tarefa)  # Adicionamos a tarefa à lista\n",
    "        print(f\"Tarefa '{tarefa}' adicionada com sucesso!\")\n",
    "    \n",
    "    # Se o usuário escolher a opção 2, pedimos que ele digite a tarefa que deseja remover\n",
    "    elif opcao == 2:\n",
    "        tarefa = input(\"Digite a tarefa que deseja remover: \")\n",
    "        # Verificamos se a tarefa está na lista\n",
    "        if tarefa in tarefas:\n",
    "            tarefas.remove(tarefa)  # Removemos a tarefa da lista\n",
    "            print(f\"Tarefa '{tarefa}' removida com sucesso!\")\n",
    "        else:\n",
    "            print(\"Essa tarefa não existe na lista.\")\n",
    "    \n",
    "    # Se o usuário escolher a opção 3, mostramos todas as tarefas na lista\n",
    "    elif opcao == 3:\n",
    "        print(\"\\nTarefas:\")\n",
    "        for i, tarefa in enumerate(tarefas, start=1):\n",
    "            print(f\"{i}. {tarefa}\")\n",
    "    \n",
    "    # Se o usuário escolher a opção 4, terminamos o laço e saímos do programa\n",
    "    elif opcao == 4:\n",
    "        print(\"Saindo do programa...\")\n",
    "        break\n",
    "    \n",
    "    # Se o usuário escolher uma opção que não seja 1, 2, 3 ou 4, informamos que a opção é inválida\n",
    "    else:\n",
    "        print(\"Opção inválida. Por favor, escolha uma opção entre 1 e 4.\")\n",
    "print(tarefas)"
   ]
  },
  {
   "attachments": {},
   "cell_type": "markdown",
   "metadata": {},
   "source": [
    "### Definição de Funções no Python\n",
    "\n"
   ]
  },
  {
   "attachments": {},
   "cell_type": "markdown",
   "metadata": {},
   "source": [
    "#### O que são, onde vivem e pra que servem?\n",
    "\n",
    "Funções são blocos de código reutilizáveis que realizam uma tarefa específica.\n",
    "\n",
    "Elas são úteis porque nos permitem dividir nosso código em partes menores e reutilizáveis, o que torna nosso código mais organizado e mais fácil de entender.\n",
    "\n",
    "Em Python, definimos uma função usando a palavra-chave def, seguida pelo nome da função, parênteses e dois pontos"
   ]
  },
  {
   "attachments": {},
   "cell_type": "markdown",
   "metadata": {},
   "source": [
    "### Exemplo de aplicação"
   ]
  },
  {
   "cell_type": "code",
   "execution_count": null,
   "metadata": {},
   "outputs": [],
   "source": [
    "def minha_funcao():\n",
    "    print(\"Função foda\")\n",
    "    \n",
    "    \n",
    "minha_funcao()\n"
   ]
  },
  {
   "attachments": {},
   "cell_type": "markdown",
   "metadata": {},
   "source": [
    "## Parâmetros e Argumentos de Função\n",
    "\n",
    "Parâmetros são variáveis que usamos na definição da função, enquanto argumentos são os valores que passamos para a função quando a chamamos."
   ]
  },
  {
   "attachments": {},
   "cell_type": "markdown",
   "metadata": {},
   "source": [
    "### Exemplo de Aplicação"
   ]
  },
  {
   "cell_type": "code",
   "execution_count": null,
   "metadata": {},
   "outputs": [],
   "source": [
    "def quadrado(numero):\n",
    "    print(numero ** 2)\n"
   ]
  },
  {
   "attachments": {},
   "cell_type": "markdown",
   "metadata": {},
   "source": [
    "### Retorno de Funções\n",
    "\n",
    "A instrução return é usada para fazer uma função retornar um valor. \n",
    "Quando Python encontra uma instrução return, ele sairá da função imediatamente e passará o valor de volta ao chamador."
   ]
  },
  {
   "cell_type": "code",
   "execution_count": null,
   "metadata": {},
   "outputs": [],
   "source": [
    "def quadrado(numero):\n",
    "    return numero ** 2\n",
    "\n",
    "resultado = quadrado(5)  # resultado agora é 25\n",
    "print(resultado)  # Isso imprimirá 25\n"
   ]
  },
  {
   "attachments": {},
   "cell_type": "markdown",
   "metadata": {},
   "source": [
    "# DIFERENÇA ENTRE PRINT E RETURN\n",
    "\n",
    "## print\n",
    "\n",
    "A função print em Python é usada para imprimir informações na tela.\n",
    "Quando você usa a função print, você está dizendo ao programa para exibir determinado texto na tela.\n",
    "Isso é útil para fornecer informações ao usuário, para depuração, entre outros. No entanto, print não afeta o fluxo de execução do programa e não produz um valor que possa ser usado em outras partes do seu código. "
   ]
  },
  {
   "attachments": {},
   "cell_type": "markdown",
   "metadata": {},
   "source": [
    "## return\n",
    "\n",
    "Por outro lado, a palavra-chave return em Python é usada para terminar a execução de uma função e \"retornar\" um valor do ponto de chamada da função.\n",
    "\n",
    "Quando uma instrução return é atingida em uma função, a função termina imediatamente e o valor especificado é retornado.\n",
    "\n",
    "Este valor retornado pode então ser usado em outras partes do seu código. "
   ]
  },
  {
   "cell_type": "code",
   "execution_count": null,
   "metadata": {},
   "outputs": [],
   "source": [
    "def minha_funcao():\n",
    "    print(\"Olá, mundo!\")\n",
    "\n",
    "minha_funcao()\n",
    "\n",
    "\n",
    "\n",
    "def minha_funcao2():\n",
    "    return \"Olá, mundo!\"\n",
    "\n",
    "mensagem = minha_funcao2()\n",
    "print(mensagem)\n"
   ]
  },
  {
   "attachments": {},
   "cell_type": "markdown",
   "metadata": {},
   "source": [
    "## Primeiro Exercicio\n",
    "\n",
    "Calculadora de tabuada de 0 a 10 com numero inputado pelo usuario função"
   ]
  },
  {
   "cell_type": "code",
   "execution_count": null,
   "metadata": {},
   "outputs": [],
   "source": [
    "numero =float(input('Digite o número para a tabuada: '))\n",
    "print('#━━━━━━━━━━━━━━━❮◆❯━━━━━━━━━━━━━━━')\n",
    "print('')\n",
    "\n",
    "def tabuada(num):\n",
    "    for i in range(11):\n",
    "        print(f\"{num} x {i} = {num * i}\")\n",
    "        print('')\n",
    "        \n",
    "        \n",
    "\n",
    "tabuada(numero)\n",
    "print('#━━━━━━━━━━━━━━━❮◆❯━━━━━━━━━━━━━━━')"
   ]
  },
  {
   "attachments": {},
   "cell_type": "markdown",
   "metadata": {},
   "source": [
    "# Exercicio de hoje, esse sim obrigatório!\n",
    "\n",
    "## Calculo de IMC\n",
    "\n",
    "\n",
    "Para calcular o IMC você fará a conta: peso / (altura ** 2)\n",
    "\n",
    "IMC abaixo de 18.5: \"Abaixo do peso\"\n",
    "IMC entre 18.5 e 24.9: \"Peso normal\"\n",
    "IMC entre 25 e 29.9: \"Sobrepeso\"\n",
    "IMC de 30 ou mais: \"Obesidade\""
   ]
  },
  {
   "attachments": {},
   "cell_type": "markdown",
   "metadata": {},
   "source": [
    "## Resolução"
   ]
  },
  {
   "cell_type": "code",
   "execution_count": null,
   "metadata": {},
   "outputs": [],
   "source": [
    "def calcula_imc(peso, altura):\n",
    "    # Calcule o IMC\n",
    "    imc = peso / (altura ** 2)\n",
    "\n",
    "    # Determine a categoria de IMC\n",
    "    if imc < 18.5:\n",
    "        categoria = \"Abaixo do peso\"\n",
    "    elif imc < 25:\n",
    "        categoria = \"Peso normal\"\n",
    "    elif imc < 30:\n",
    "        categoria = \"Sobrepeso\"\n",
    "    else:\n",
    "        categoria = \"Obesidade\"\n",
    "\n",
    "    # Retorne o IMC e a categoria\n",
    "    return f\"Seu IMC é {imc:.1f}, o que é considerado '{categoria}'.\"\n",
    "\n",
    "# Peça ao usuário que insira seu peso e altura\n",
    "while True:\n",
    "    peso = input(\"Digite seu peso em kg: \")\n",
    "    altura = input(\"Digite sua altura em metros: \")\n",
    "\n",
    "    # Verifique se o peso e a altura são números positivos\n",
    "    if peso.lstrip('-').replace('.', '', 1).isnumeric() and altura.lstrip('-').replace('.', '', 1).isnumeric():\n",
    "        peso = float(peso)\n",
    "        altura = float(altura)\n",
    "        if peso > 0 and altura > 0:\n",
    "            break\n",
    "\n",
    "    print(\"Entrada inválida. O peso e a altura devem ser números positivos.\")\n",
    "\n",
    "# Calcule o IMC do usuário e imprima o resultado\n",
    "print(calcula_imc(peso, altura))\n"
   ]
  }
 ],
 "metadata": {
  "kernelspec": {
   "display_name": "Python 3",
   "language": "python",
   "name": "python3"
  },
  "language_info": {
   "codemirror_mode": {
    "name": "ipython",
    "version": 3
   },
   "file_extension": ".py",
   "mimetype": "text/x-python",
   "name": "python",
   "nbconvert_exporter": "python",
   "pygments_lexer": "ipython3",
   "version": "3.10.11"
  },
  "orig_nbformat": 4
 },
 "nbformat": 4,
 "nbformat_minor": 2
}

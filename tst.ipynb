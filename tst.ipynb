{
 "cells": [
  {
   "cell_type": "code",
   "execution_count": 5,
   "metadata": {},
   "outputs": [
    {
     "name": "stdout",
     "output_type": "stream",
     "text": [
      "[0] -sair\n",
      "[1] pitagoras\n",
      "[2] bhaskara\n"
     ]
    },
    {
     "ename": "ValueError",
     "evalue": "invalid literal for int() with base 10: ''",
     "output_type": "error",
     "traceback": [
      "\u001b[1;31m---------------------------------------------------------------------------\u001b[0m",
      "\u001b[1;31mValueError\u001b[0m                                Traceback (most recent call last)",
      "Cell \u001b[1;32mIn[5], line 5\u001b[0m\n\u001b[0;32m      2\u001b[0m \u001b[39mprint\u001b[39m(\u001b[39m'\u001b[39m\u001b[39m[1] pitagoras\u001b[39m\u001b[39m'\u001b[39m)\n\u001b[0;32m      3\u001b[0m \u001b[39mprint\u001b[39m(\u001b[39m'\u001b[39m\u001b[39m[2] bhaskara\u001b[39m\u001b[39m'\u001b[39m)\n\u001b[1;32m----> 5\u001b[0m opcao \u001b[39m=\u001b[39m\u001b[39mint\u001b[39;49m(\u001b[39minput\u001b[39;49m(\u001b[39m'\u001b[39;49m\u001b[39mO que quer fazer hoje? \u001b[39;49m\u001b[39m'\u001b[39;49m))\n\u001b[0;32m      7\u001b[0m \u001b[39mif\u001b[39;00m opcao \u001b[39m==\u001b[39m\u001b[39m1\u001b[39m:\n\u001b[0;32m      8\u001b[0m     cat1 \u001b[39m=\u001b[39m\u001b[39mfloat\u001b[39m(\u001b[39minput\u001b[39m(\u001b[39m'\u001b[39m\u001b[39mDigite o cateto\u001b[39m\u001b[39m'\u001b[39m))\n",
      "\u001b[1;31mValueError\u001b[0m: invalid literal for int() with base 10: ''"
     ]
    }
   ],
   "source": [
    "print('[0] -sair')\n",
    "print('[1] pitagoras')\n",
    "print('[2] bhaskara')\n",
    "\n",
    "opcao =int(input('O que quer fazer hoje? '))\n",
    "\n",
    "if opcao ==1:\n",
    "    cat1 =float(input('Digite o cateto'))\n",
    "    cat2 =float(input('Digite o outro cateto'))\n",
    "    \n",
    "    hipo =(cat1**2 +cat2**2)**0.5\n",
    "    \n",
    "    print(f'A hipotenusa é {hipo}')\n",
    "    \n",
    "elif opcao ==2:\n",
    "    a =float(input('Digite A'))\n",
    "    b =float(input('Digite B'))\n",
    "    c =float(input('Digite C'))\n",
    "    \n",
    "    # delta =b²-4ac\n",
    "    # formula =-b +- Vdelta /2a\n",
    "    \n",
    "    delta =(b**2)-4*a*c\n",
    "    x1 =(-b+delta**0.5)/(2*a)\n",
    "    x2 =(-b-delta**0.5)/(2*a)\n",
    "    \n",
    "    print(f'x1 eh {x1}, x2 eh {x2}')\n",
    "    \n",
    "elif opcao ==0:\n",
    "    print('saiu')\n",
    "    \n",
    "else:\n",
    "    print('opcao invalida')"
   ]
  },
  {
   "cell_type": "code",
   "execution_count": 6,
   "metadata": {},
   "outputs": [
    {
     "name": "stdout",
     "output_type": "stream",
     "text": [
      "O número é 3.142\n"
     ]
    }
   ],
   "source": [
    "numero_quebrado = 3.14159\n",
    "casas_decimais = 2\n",
    "\n",
    "print(f\"O número é {numero_quebrado:.{3}f}\")\n",
    "print('o numero é {:.2f}'.format(numero_quebrado))\n",
    "\n"
   ]
  },
  {
   "cell_type": "code",
   "execution_count": null,
   "metadata": {},
   "outputs": [],
   "source": [
    "numero_quebrado = 3.14159\n",
    "casas_decimais = 2\n",
    "\n",
    "numero_cortado = round(numero_quebrado, casas_decimais)\n",
    "print(f\"O número é {numero_cortado}\")\n"
   ]
  },
  {
   "cell_type": "code",
   "execution_count": 9,
   "metadata": {},
   "outputs": [
    {
     "ename": "ValueError",
     "evalue": "invalid literal for int() with base 10: ''",
     "output_type": "error",
     "traceback": [
      "\u001b[1;31m---------------------------------------------------------------------------\u001b[0m",
      "\u001b[1;31mValueError\u001b[0m                                Traceback (most recent call last)",
      "Cell \u001b[1;32mIn[9], line 5\u001b[0m\n\u001b[0;32m      2\u001b[0m soma \u001b[39m=\u001b[39m \u001b[39m0\u001b[39m\n\u001b[0;32m      4\u001b[0m \u001b[39mwhile\u001b[39;00m contador \u001b[39m<\u001b[39m \u001b[39m5\u001b[39m:\n\u001b[1;32m----> 5\u001b[0m     numero \u001b[39m=\u001b[39m \u001b[39mint\u001b[39;49m(\u001b[39minput\u001b[39;49m(\u001b[39m\"\u001b[39;49m\u001b[39mDigite um número: \u001b[39;49m\u001b[39m\"\u001b[39;49m))\n\u001b[0;32m      6\u001b[0m     soma \u001b[39m+\u001b[39m\u001b[39m=\u001b[39m numero  \u001b[39m#== soma = soma +1\u001b[39;00m\n\u001b[0;32m      7\u001b[0m     \u001b[39m# contador += 1\u001b[39;00m\n\u001b[0;32m      8\u001b[0m \n\u001b[0;32m      9\u001b[0m     \u001b[39m# print(f\"Tabuada do número {numero}:\")\u001b[39;00m\n\u001b[0;32m     10\u001b[0m     \u001b[39m# # for i in range(1, 11):\u001b[39;00m\n\u001b[0;32m     11\u001b[0m     \u001b[39m#     resultado = numero * i\u001b[39;00m\n\u001b[0;32m     12\u001b[0m     \u001b[39m#     print(f\"{numero} x {i} = {resultado}\")\u001b[39;00m\n",
      "\u001b[1;31mValueError\u001b[0m: invalid literal for int() with base 10: ''"
     ]
    }
   ],
   "source": [
    "contador = 0\n",
    "soma = 0\n",
    "\n",
    "while contador < 5:\n",
    "    numero = int(input(\"Digite um número: \"))\n",
    "    soma += numero  #== soma = soma +1\n",
    "    # contador += 1\n",
    "\n",
    "    # print(f\"Tabuada do número {numero}:\")\n",
    "    # # for i in range(1, 11):\n",
    "    #     resultado = numero * i\n",
    "    #     print(f\"{numero} x {i} = {resultado}\")\n",
    "\n",
    "print(f\"A soma dos números digitados é: {soma}\")\n"
   ]
  },
  {
   "cell_type": "code",
   "execution_count": 25,
   "metadata": {},
   "outputs": [
    {
     "name": "stdout",
     "output_type": "stream",
     "text": [
      "['silva', 'pedro', 'jorge']\n",
      "['silva', 'pedro', 'jorge']\n",
      "['silva', 'pedro', 'jorge']\n"
     ]
    }
   ],
   "source": [
    "lista_nm =['silva', 'pedro', 'jorge']\n",
    "\n",
    "lista."
   ]
  },
  {
   "cell_type": "code",
   "execution_count": 1,
   "metadata": {},
   "outputs": [
    {
     "name": "stdout",
     "output_type": "stream",
     "text": [
      "[1, 2, 3, 4, 5, 6]\n",
      "[1, 2, 3, 4, 5, 6, 7, 8, 9]\n",
      "[1, 2, 3, 10, 4, 5, 6, 7, 8, 9]\n",
      "[1, 2, 3, 10, 5, 6, 7, 8, 9]\n",
      "[1, 2, 10, 5, 6, 7, 8, 9]\n",
      "3\n",
      "4\n",
      "1\n",
      "[1, 2, 5, 6, 7, 8, 9, 10]\n",
      "[10, 9, 8, 7, 6, 5, 2, 1]\n",
      "[]\n",
      "[]\n"
     ]
    }
   ],
   "source": [
    "lista = [1, 2, 3, 4, 5]\n",
    "lista.append(6)\n",
    "print(lista)  # Output: [1, 2, 3, 4, 5, 6]\n",
    "\n",
    "\n",
    "lista.extend([7, 8, 9])\n",
    "print(lista)  # Output: [1, 2, 3, 4, 5, 6, 7, 8, 9]\n",
    "\n",
    "lista.insert(3, 10)\n",
    "print(lista)  # Output: [1, 2, 3, 10, 4, 5, 6, 7, 8, 9]\n",
    "\n",
    "lista.remove(4)\n",
    "print(lista)  # Output: [1, 2, 3, 10, 5, 6, 7, 8, 9]\n",
    "\n",
    "elemento = lista.pop(2)\n",
    "print(lista)  # Output: [1, 2, 10, 5, 6, 7, 8, 9]\n",
    "print(elemento)  # Output: 3\n",
    "\n",
    "indice = lista.index(6)\n",
    "print(indice)  # Output: 4\n",
    "\n",
    "contador = lista.count(5)\n",
    "print(contador)  # Output: 1\n",
    "\n",
    "lista.sort()\n",
    "print(lista)  # Output: [1, 2, 5, 6, 7, 8, 9, 10]\n",
    "\n",
    "lista.reverse()\n",
    "print(lista)  # Output: [10, 9, 8, 7, 6, 5, 2, 1]\n",
    "\n",
    "lista.clear()\n",
    "print(lista)  # Output: []\n",
    "\n",
    "copia = lista.copy()\n",
    "print(copia)  # Output: []\n"
   ]
  },
  {
   "cell_type": "code",
   "execution_count": 22,
   "metadata": {},
   "outputs": [
    {
     "name": "stdout",
     "output_type": "stream",
     "text": [
      "['1', '2', '11', '3', '4', '5']\n"
     ]
    }
   ],
   "source": [
    "lista = ['1', '2', '3', '4', '5']\n",
    "# indice = lista.index(2)\n",
    "# print(indice)\n",
    "lista.insert(2, '11')\n",
    "print(lista)"
   ]
  },
  {
   "cell_type": "code",
   "execution_count": 2,
   "metadata": {},
   "outputs": [
    {
     "name": "stdout",
     "output_type": "stream",
     "text": [
      "Voto inválido! Tente novamente.\n",
      "Voto inválido! Tente novamente.\n",
      "Voto inválido! Tente novamente.\n",
      "Resultado da votação:\n",
      "Total de votos: 1\n",
      "Candidato 1: 0 votos (0.00%)\n",
      "Candidato 2: 1 votos (100.00%)\n",
      "Candidato 3: 0 votos (0.00%)\n",
      "\n",
      "Exemplos das funções:\n"
     ]
    },
    {
     "ename": "ValueError",
     "evalue": "1 is not in list",
     "output_type": "error",
     "traceback": [
      "\u001b[1;31m---------------------------------------------------------------------------\u001b[0m",
      "\u001b[1;31mValueError\u001b[0m                                Traceback (most recent call last)",
      "Cell \u001b[1;32mIn[2], line 40\u001b[0m\n\u001b[0;32m     35\u001b[0m     candidato \u001b[39m+\u001b[39m\u001b[39m=\u001b[39m \u001b[39m1\u001b[39m\n\u001b[0;32m     37\u001b[0m \u001b[39mprint\u001b[39m(\u001b[39m\"\u001b[39m\u001b[39m\\n\u001b[39;00m\u001b[39mExemplos das funções:\u001b[39m\u001b[39m\"\u001b[39m)\n\u001b[1;32m---> 40\u001b[0m indice_candidato_1 \u001b[39m=\u001b[39m votos\u001b[39m.\u001b[39;49mindex(\u001b[39m1\u001b[39;49m)\n\u001b[0;32m     44\u001b[0m \u001b[39mprint\u001b[39m(\u001b[39m\"\u001b[39m\u001b[39mÍndice do candidato 1:\u001b[39m\u001b[39m\"\u001b[39m, indice_candidato_1)\n",
      "\u001b[1;31mValueError\u001b[0m: 1 is not in list"
     ]
    }
   ],
   "source": [
    "#━━━━━━━━━❮controle❯━━━━━━━━━\n",
    "votos = []\n",
    "total_votos = 0\n",
    "votos_por_candidato = [0, 0, 0]\n",
    "\n",
    "#━━━━━━━━━❮primeiro laço❯━━━━━━━━━\n",
    "\n",
    "while True:\n",
    "    voto = int(input(\"Digite o número do candidato (ou 0 para encerrar a votação): \"))\n",
    "\n",
    "    if voto < 0 or voto > 3:\n",
    "        print(\"Voto inválido! Tente novamente.\")\n",
    "    elif voto == 0:\n",
    "        break\n",
    "    else:\n",
    "        votos.append(voto)\n",
    "        votos_por_candidato[voto - 1] += 1\n",
    "        total_votos += 1\n",
    "\n",
    "print(\"Resultado da votação:\")\n",
    "print(\"Total de votos:\", total_votos)\n",
    "\n",
    "\n",
    "#━━━━━━━━━❮controle❯━━━━━━━━━\n",
    "candidato = 1\n",
    "\n",
    "#━━━━━━━━━❮segundo laço❯━━━━━━━━━\n",
    "while candidato <= len(votos_por_candidato):\n",
    "    votos_candidato = votos_por_candidato[candidato - 1]\n",
    "    if total_votos > 0:\n",
    "        porcentagem = (votos_candidato / total_votos) * 100\n",
    "    else:\n",
    "        porcentagem = 0\n",
    "    print(f\"Candidato {candidato}: {votos_candidato} votos ({porcentagem:.2f}%)\")\n",
    "    candidato += 1\n",
    "\n",
    "print(\"\\nExemplos das funções:\")\n",
    "\n",
    "\n",
    "indice_candidato_1 = votos.index(1)\n",
    "\n",
    "\n",
    "\n",
    "print(\"Índice do candidato 1:\", indice_candidato_1)\n"
   ]
  },
  {
   "cell_type": "code",
   "execution_count": 11,
   "metadata": {},
   "outputs": [
    {
     "name": "stdout",
     "output_type": "stream",
     "text": [
      "opcao é menor que 4\n"
     ]
    },
    {
     "ename": "ValueError",
     "evalue": "could not convert string to float: ''",
     "output_type": "error",
     "traceback": [
      "\u001b[1;31m---------------------------------------------------------------------------\u001b[0m",
      "\u001b[1;31mValueError\u001b[0m                                Traceback (most recent call last)",
      "Cell \u001b[1;32mIn[11], line 5\u001b[0m\n\u001b[0;32m      2\u001b[0m contador \u001b[39m=\u001b[39m\u001b[39m0\u001b[39m\n\u001b[0;32m      4\u001b[0m \u001b[39mwhile\u001b[39;00m contador \u001b[39m<\u001b[39m\u001b[39m3\u001b[39m:\n\u001b[1;32m----> 5\u001b[0m     opcao \u001b[39m=\u001b[39m\u001b[39mfloat\u001b[39;49m(\u001b[39minput\u001b[39;49m(\u001b[39m'\u001b[39;49m\u001b[39mDigite um numero\u001b[39;49m\u001b[39m'\u001b[39;49m))\n\u001b[0;32m      6\u001b[0m     \u001b[39mif\u001b[39;00m opcao \u001b[39m==\u001b[39m\u001b[39m5\u001b[39m:\n\u001b[0;32m      7\u001b[0m         \u001b[39mprint\u001b[39m(\u001b[39m'\u001b[39m\u001b[39mA OPCAO É 5\u001b[39m\u001b[39m'\u001b[39m)\n",
      "\u001b[1;31mValueError\u001b[0m: could not convert string to float: ''"
     ]
    }
   ],
   "source": [
    "# controle\n",
    "contador =0\n",
    "\n",
    "while contador <3:\n",
    "    opcao =float(input('Digite um numero'))\n",
    "    if opcao ==5:\n",
    "        print('A OPCAO É 5')\n",
    "        \n",
    "    elif opcao <4:\n",
    "        print('opcao é menor que 4')\n",
    "        \n",
    "    else:\n",
    "        print('eu n sei')\n",
    "    contador = contador +1"
   ]
  },
  {
   "cell_type": "code",
   "execution_count": 23,
   "metadata": {},
   "outputs": [
    {
     "name": "stdout",
     "output_type": "stream",
     "text": [
      "[1] pitagoras\n",
      "[2] ola mundo\n",
      "[0] sair\n",
      "\n"
     ]
    },
    {
     "ename": "ValueError",
     "evalue": "invalid literal for int() with base 10: ''",
     "output_type": "error",
     "traceback": [
      "\u001b[1;31m---------------------------------------------------------------------------\u001b[0m",
      "\u001b[1;31mValueError\u001b[0m                                Traceback (most recent call last)",
      "Cell \u001b[1;32mIn[23], line 7\u001b[0m\n\u001b[0;32m      4\u001b[0m \u001b[39mprint\u001b[39m(\u001b[39m'\u001b[39m\u001b[39m[0] sair\u001b[39m\u001b[39m'\u001b[39m)\n\u001b[0;32m      5\u001b[0m \u001b[39mprint\u001b[39m(\u001b[39m'\u001b[39m\u001b[39m'\u001b[39m)\n\u001b[1;32m----> 7\u001b[0m opc \u001b[39m=\u001b[39m\u001b[39mint\u001b[39;49m(\u001b[39minput\u001b[39;49m(\u001b[39m'\u001b[39;49m\u001b[39mVamo de que hoje? \u001b[39;49m\u001b[39m'\u001b[39;49m))\n\u001b[0;32m      9\u001b[0m \u001b[39mif\u001b[39;00m opc \u001b[39m==\u001b[39m\u001b[39m1\u001b[39m:\n\u001b[0;32m     10\u001b[0m     cat1 \u001b[39m=\u001b[39m\u001b[39mfloat\u001b[39m(\u001b[39minput\u001b[39m(\u001b[39m'\u001b[39m\u001b[39mDigite o cateto\u001b[39m\u001b[39m'\u001b[39m))\n",
      "\u001b[1;31mValueError\u001b[0m: invalid literal for int() with base 10: ''"
     ]
    }
   ],
   "source": [
    "while True:\n",
    "    print('[1] pitagoras')\n",
    "    print('[2] ola mundo')\n",
    "    print('[0] sair')\n",
    "    print('')\n",
    "    \n",
    "    opc =int(input('Vamo de que hoje? '))\n",
    "    \n",
    "    if opc ==1:\n",
    "        cat1 =float(input('Digite o cateto'))\n",
    "        cat2 =float(input('Digite o outro cateto'))\n",
    "    \n",
    "        hipo =(cat1**2 +cat2**2)**0.5\n",
    "    \n",
    "        print(f'A hipotenusa é {hipo}')\n",
    "        print('')\n",
    "\n",
    "            \n",
    "    elif opc ==2:\n",
    "        print('hello world poooo')\n",
    "        print('')\n",
    "    elif opc ==0:\n",
    "        break\n",
    "    \n",
    "    else:\n",
    "        print('vc fez algo errado')"
   ]
  },
  {
   "cell_type": "code",
   "execution_count": null,
   "metadata": {},
   "outputs": [],
   "source": [
    "algo =input('Digite algo aqui: ')\n",
    "print('')\n",
    "\n",
    "len(algo)\n",
    "print(algo.capitalize())\n",
    "print(algo.count('a'))\n",
    "print(algo.startswith('a'))\n",
    "print(algo.endswith('b'))\n",
    "print(algo.isalnum())\n",
    "print(algo.isalpha())\n",
    "print(algo.islower())\n",
    "print(algo.isupper())\n",
    "print(algo.lower())\n",
    "print(algo.upper())\n",
    "print(algo.swapcase())\n",
    "print(algo.title())\n",
    "print(algo.split())\n",
    "print(algo.replace('a', 'b'))\n",
    "print(algo.find('e'))\n",
    "print(algo.strip())\n"
   ]
  }
 ],
 "metadata": {
  "kernelspec": {
   "display_name": "Python 3",
   "language": "python",
   "name": "python3"
  },
  "language_info": {
   "codemirror_mode": {
    "name": "ipython",
    "version": 3
   },
   "file_extension": ".py",
   "mimetype": "text/x-python",
   "name": "python",
   "nbconvert_exporter": "python",
   "pygments_lexer": "ipython3",
   "version": "3.10.11"
  },
  "orig_nbformat": 4
 },
 "nbformat": 4,
 "nbformat_minor": 2
}

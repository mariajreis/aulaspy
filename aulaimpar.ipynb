{
 "cells": [
  {
   "cell_type": "code",
   "execution_count": null,
   "metadata": {},
   "outputs": [],
   "source": [
    "#verificar par ou impar \n",
    "\n",
    "lista_numeros = []\n",
    "\n",
    "while True:\n",
    "\n",
    "    numero = input('Informe um numero ou \"Q\" para SAIR')\n",
    "    resultado = numero % 2\n",
    "      \n",
    "    if numero % 2 == 0:\n",
    "        lista_numeros.append(numero)\n",
    "        print(f' o maior numero par da lista é {max(lista_numeros)}')\n",
    "        lista_numeros.sort()\n",
    "        print (lista_numeros)\n",
    "                \n",
    "    elif numero % 2 != 0:\n",
    "            lista_numeros.append(numero)\n",
    "            print(f' o maior numero impar da lista é {max(lista_numeros)}')\n",
    "            lista_numeros.sort()\n",
    "            print (lista_numeros)\n",
    "    #else:\n",
    "          #break    \n",
    "    #print(lista_numeros)"
   ]
  }
 ],
 "metadata": {
  "kernelspec": {
   "display_name": "Python 3",
   "language": "python",
   "name": "python3"
  },
  "language_info": {
   "codemirror_mode": {
    "name": "ipython",
    "version": 3
   },
   "file_extension": ".py",
   "mimetype": "text/x-python",
   "name": "python",
   "nbconvert_exporter": "python",
   "pygments_lexer": "ipython3",
   "version": "3.10.11"
  },
  "orig_nbformat": 4
 },
 "nbformat": 4,
 "nbformat_minor": 2
}

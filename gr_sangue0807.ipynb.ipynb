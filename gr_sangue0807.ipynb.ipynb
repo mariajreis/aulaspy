{
 "cells": [
  {
   "cell_type": "code",
   "execution_count": 1,
   "metadata": {},
   "outputs": [
    {
     "name": "stdout",
     "output_type": "stream",
     "text": [
      "Vamos ver para quem Vc pode DOAR / RECEBER sangue =)!\n"
     ]
    },
    {
     "name": "stdout",
     "output_type": "stream",
     "text": [
      "TIPO SANGUINEO é ap\n",
      "Você pode DOAR para os GRUPOS: \n",
      "['A+ pode \"DOAR\" para = A+, AB+']\n",
      "['A+ pode \"RECEBER\" de = A+, A-, O+ , O-']\n"
     ]
    }
   ],
   "source": [
    "#imprimindo lista de doadores / receber sangue\n",
    "\n",
    "listad_ap = ['A+'' pode \"DOAR\" para = A+, AB+']\n",
    "listar_ap = ['A+'' pode \"RECEBER\" de = A+, A-, O+ , O-']\n",
    "listad_an = ['A-' ' pode \"DOAR\" para = A-, A+, AB+, AB-']\n",
    "listar_an = ['A-' ' pode \"RECEBER\" de = A-, O-']\n",
    "listad_bp = ['B+'' pode \"DOAR\" para = B+, AB+']\n",
    "listar_bp = ['B+'' pode \"RECEBER\" de = B+, B-, O+, O-']\n",
    "listad_bn = ['B-'' pode \"DOAR\" para = B-, B+, AB+, AB-']\n",
    "listar_bn = ['B-'' pode \"RECEBER\"de  = B-, O-']\n",
    "listad_abp = ['AB+'' pode \"DOAR\" para = AB+']\n",
    "listar_abp = ['AB+'' pode \"RECEBER\" de = TODOS']\n",
    "listad_abn = ['AB-'' pode \"DOAR\" para = AB+, AB-']\n",
    "listar_abn = ['AB-'' pode \"RECEBER\" de = A-, B-, O-, AB-']\n",
    "listad_op = ['O+'' pode \"DOAR\" para =  O+, A+, B+, AB+']\n",
    "listar_op = ['O+'' pode \"RECEBER\" de =  O+, O-']\n",
    "listad_on = ['O-' 'pode \"DOAR\" para TODOS os GRUPOS']\n",
    "listar_on = ['O-' 'SÓ pode \"RECEBER\" de = O-']\n",
    "\n",
    "\n",
    "print(format('Vamos ver para quem Vc pode DOAR / RECEBER sangue =)!'))\n",
    "\n",
    "gr=str(input('informe seu Grupo Sanguineo? '))\n",
    "rh=str(input('Seu RH é n=Negativo ou p=Positivo?'))\n",
    "\n",
    "gr = gr\n",
    "rh = rh \n",
    "\n",
    "tipo=gr+rh\n",
    "\n",
    "if rh == 'n':\n",
    "        print(f'TIPO SANGUINEO é {gr}{rh}')\n",
    "\n",
    "else:\n",
    "        print(f'TIPO SANGUINEO é {gr}{rh}')\n",
    "\n",
    "\n",
    "print(format('Você pode DOAR para os GRUPOS: '))\n",
    "\n",
    "resultado = (gr+rh)\n",
    "\n",
    "if resultado == 'ap':\n",
    "        print(listad_ap)\n",
    "        print(listar_ap)\n",
    "\n",
    "elif resultado == \"an\":\n",
    "        print(listad_an)\n",
    "        print(listar_an)\n",
    "\n",
    "elif resultado == \"bp\":\n",
    "        print(listad_bp)\n",
    "        print(listar_bp)\n",
    "\n",
    "elif resultado == \"bn\":\n",
    "        print(listad_bn)\n",
    "        print(listar_bn)\n",
    "\n",
    "elif resultado == \"abp\":\n",
    "        print(listad_abp)\n",
    "        print(listar_abp)\n",
    "\n",
    "elif resultado == \"abn\":\n",
    "        print(listad_abn)\n",
    "        print(listar_abn)\n",
    "\n",
    "elif resultado == \"op\":\n",
    "        print(listad_op)\n",
    "        print(listar_op)\n",
    "\n",
    "elif resultado == \"on\":\n",
    "        print(listad_on)\n",
    "        print(listar_on)\n",
    "\n",
    "else:\n",
    "        print(\"TIPO SANGUINEO ERRADO\")\n",
    "\n",
    "\n"
   ]
  }
 ],
 "metadata": {
  "kernelspec": {
   "display_name": "Python 3",
   "language": "python",
   "name": "python3"
  },
  "language_info": {
   "codemirror_mode": {
    "name": "ipython",
    "version": 3
   },
   "file_extension": ".py",
   "mimetype": "text/x-python",
   "name": "python",
   "nbconvert_exporter": "python",
   "pygments_lexer": "ipython3",
   "version": "3.10.11"
  },
  "orig_nbformat": 4
 },
 "nbformat": 4,
 "nbformat_minor": 2
}

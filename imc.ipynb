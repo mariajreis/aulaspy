{
 "cells": [
  {
   "cell_type": "code",
   "execution_count": null,
   "metadata": {},
   "outputs": [],
   "source": [
    "#caluladora IMC\n",
    "\n",
    "\n",
    "while True:\n",
    "    print(\"\\nVAMOS CALCULAR O IMC\")\n",
    "    print(\"1. Quer Calcular ?\")\n",
    "    print(\"0. Sair\")\n",
    "\n",
    "    opcao = int(input(\"Escolha uma opção: \"))\n",
    "\n",
    "    if opcao == 1:\n",
    "        peso=float(input('informe seu peso? '))\n",
    "        altura=float(input('informe sua altura'))\n",
    "\n",
    "        funcao_imc()\n",
    "\n",
    "    elif opcao == 0:\n",
    "        print(\"Saindo do programa...\")\n",
    "        break\n",
    "\n",
    "    else:\n",
    "        print(\"Opção inválida. Por favor, escolha uma Calcular ou Sair \")\n",
    "\n"
   ]
  },
  {
   "cell_type": "code",
   "execution_count": null,
   "metadata": {},
   "outputs": [],
   "source": [
    "def funcao_imc():\n",
    "\n",
    "\n",
    "    print(f'seu é peso {peso}')\n",
    "    print(f'sua altura é {altura}')\n",
    "    \n",
    "\n",
    "    imc=peso/altura**2 \n",
    "    \n",
    "\n",
    "    if imc <=(18.5):\n",
    "        print(f'seu IMC é {imc:.1f}')\n",
    "        print('Situação do IMC --> MAGREZA')   \n",
    "    \n",
    "    elif imc <=24.9:\n",
    "        print(f'seu IMC é {imc:.1f}')\n",
    "        print('Situação do IMC --> NORMAL')\n",
    "        print('Mantenha a sua rotina =)')\n",
    "\n",
    "    elif imc <=30:\n",
    "        print(f'seu IMC é {imc:.1f}')\n",
    "        print('Situação do IMC --> SOBREPESO')\n",
    "        print('ATENçÃO aos seus marcadores!')\n",
    "\n",
    "    else:\n",
    "        print(f'seu IMC é {imc:.1f}')\n",
    "        print('Situação do IMC --> OBESIDADE')\n",
    "        print('Precisa consultar um PROFISSIONAL DE SAÚDE!')\n",
    "\n",
    "    \n"
   ]
  }
 ],
 "metadata": {
  "kernelspec": {
   "display_name": "Python 3",
   "language": "python",
   "name": "python3"
  },
  "language_info": {
   "codemirror_mode": {
    "name": "ipython",
    "version": 3
   },
   "file_extension": ".py",
   "mimetype": "text/x-python",
   "name": "python",
   "nbconvert_exporter": "python",
   "pygments_lexer": "ipython3",
   "version": "3.10.11"
  },
  "orig_nbformat": 4
 },
 "nbformat": 4,
 "nbformat_minor": 2
}

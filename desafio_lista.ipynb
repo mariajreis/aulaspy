{
 "cells": [
  {
   "cell_type": "code",
   "execution_count": 1,
   "metadata": {},
   "outputs": [
    {
     "name": "stdout",
     "output_type": "stream",
     "text": [
      "Vamos Criar um lista de passeios para a viagem!\n",
      "['barco', 'iate', 'patinete', 'bicicleta']\n"
     ]
    }
   ],
   "source": [
    "#desafio geranciar uma lista passeios\n",
    "\n",
    "\n",
    "viagem = []\n",
    "\n",
    "print(format(\"Vamos Criar um lista de passeios para a viagem!\"))\n",
    "passeio = input('Qual passeio vc vai querer fazer ? ou \"0\" para PARAR')\n",
    "viagem.append(passeio)\n",
    "\n",
    "while passeio != '':\n",
    "    passeio = input(\"Qual passeio Você vai querer fazer?\")\n",
    "    viagem.append(passeio)\n",
    "\n",
    "\n",
    "\n",
    "print(viagem[0:-1])\n",
    "\n"
   ]
  },
  {
   "cell_type": "code",
   "execution_count": 2,
   "metadata": {},
   "outputs": [
    {
     "name": "stdout",
     "output_type": "stream",
     "text": [
      "['iate', 'patinete', 'bicicleta', '']\n"
     ]
    }
   ],
   "source": [
    "viagem.remove ('barco') #posição do passeio\n",
    "print(viagem)\n",
    "\n"
   ]
  },
  {
   "cell_type": "code",
   "execution_count": 3,
   "metadata": {},
   "outputs": [
    {
     "name": "stdout",
     "output_type": "stream",
     "text": [
      "['iate', 'patinete', 'bicicleta']\n",
      "['iate', 'patinete', 'bicicleta']\n",
      "['iate', 'patinete', 'bicicleta']\n",
      "['iate', 'patinete', 'bicicleta']\n"
     ]
    }
   ],
   "source": [
    "for i, passeio in enumerate(viagem):\n",
    "    print(viagem[0:-1])"
   ]
  }
 ],
 "metadata": {
  "kernelspec": {
   "display_name": "Python 3",
   "language": "python",
   "name": "python3"
  },
  "language_info": {
   "codemirror_mode": {
    "name": "ipython",
    "version": 3
   },
   "file_extension": ".py",
   "mimetype": "text/x-python",
   "name": "python",
   "nbconvert_exporter": "python",
   "pygments_lexer": "ipython3",
   "version": "3.10.11"
  },
  "orig_nbformat": 4
 },
 "nbformat": 4,
 "nbformat_minor": 2
}

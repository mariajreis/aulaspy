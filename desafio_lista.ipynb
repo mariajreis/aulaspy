{
 "cells": [
  {
   "cell_type": "code",
   "execution_count": null,
   "metadata": {},
   "outputs": [],
   "source": [
    "#desafio gerenciar uma lista passeios\n",
    "\n",
    "\n",
    "viagem = []\n",
    "\n",
    "print(format(\"Vamos Criar uma Agenda de passeios para a viagem!\"))\n",
    "\n",
    "while True:\n",
    "    print(\"\\nGerencie os Passeios\")\n",
    "    print(\"1. Adicionar um Passeio\")\n",
    "    print(\"2. Remover um Passeio\")\n",
    "    print(\"3. Visualizar todos os Passeios\")\n",
    "    print(\"4. Sair\")\n",
    "\n",
    "    escolha = int(input('Escolha uma Opção?'))\n",
    "\n",
    "\n",
    "funcao_escolhas()"
   ]
  },
  {
   "cell_type": "code",
   "execution_count": null,
   "metadata": {},
   "outputs": [],
   "source": [
    "def funcao_escolhas():\n",
    "\n",
    "    while True:\n",
    "        if escolha == 1:\n",
    "            passeio = input(\"Digite o PASSEIO que deseja adicionar: \")\n",
    "            viagem.append(passeio) \n",
    "            print(f\"Passeio '{passeio}' adicionada com sucesso!\")\n",
    "        \n",
    "        elif escolha == 2:\n",
    "            passeio = input(\"Digite a PASSEIO que deseja retirar: \")\n",
    "       \n",
    "            if passeio in viagem:\n",
    "                viagem.remove(passeio) \n",
    "                print(f\"Passeio '{passeio}' cancelado da Agenda!\")\n",
    "            \n",
    "            else:\n",
    "                print(\"Esse Passeio não esta na Agenda.\")\n",
    "\n",
    "        elif escolha == 3:\n",
    "             print(\"\\nAgenda dos Passeios:\")\n",
    "             for i, passeio in enumerate(viagem, start=1):\n",
    "                print(f\"{i} -> {passeio}\")\n",
    "    \n",
    "        elif escolha == 4:\n",
    "                 print(\"Saindo do programa...\")\n",
    "        break\n",
    "    \n",
    "    else:\n",
    "        print(\"Opção inválida. Por favor, escolha uma opção entre 1 e 4.\")\n",
    "print(viagem)\n"
   ]
  }
 ],
 "metadata": {
  "kernelspec": {
   "display_name": "Python 3",
   "language": "python",
   "name": "python3"
  },
  "language_info": {
   "codemirror_mode": {
    "name": "ipython",
    "version": 3
   },
   "file_extension": ".py",
   "mimetype": "text/x-python",
   "name": "python",
   "nbconvert_exporter": "python",
   "pygments_lexer": "ipython3",
   "version": "3.10.11"
  },
  "orig_nbformat": 4
 },
 "nbformat": 4,
 "nbformat_minor": 2
}
